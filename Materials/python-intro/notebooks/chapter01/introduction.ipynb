{
 "cells": [
  {
   "cell_type": "markdown",
   "metadata": {
    "deletable": true,
    "editable": true,
    "slideshow": {
     "slide_type": "slide"
    }
   },
   "source": [
    "# Introduction\n",
    "\n",
    "[Python](http://www.python.org) is a Very High Level Language, object-oriented, dynamic and with strong typing, interpreted and interactive."
   ]
  },
  {
   "cell_type": "markdown",
   "metadata": {
    "deletable": true,
    "editable": true,
    "slideshow": {
     "slide_type": "slide"
    }
   },
   "source": [
    "## Features\n",
    "\n",
    "- Clear and concise syntax\n",
    "- High-level structures (lists, dictionaries, date / time, complex numbers and others)\n",
    "- Vast collection of modules\n",
    "- Modern features: generators, introspection, persistence, metaclasses and unit tests.\n",
    "- Support modular, functional, and object-oriented programming.\n",
    "- Interpreted through bytecode by the Python virtual machine\n",
    "- Portable\n",
    "- Possible to integrate with other languages such as C and Fortran."
   ]
  },
  {
   "cell_type": "markdown",
   "metadata": {
    "deletable": true,
    "editable": true,
    "slideshow": {
     "slide_type": "slide"
    }
   },
   "source": [
    "## License\n",
    "\n",
    "Python is open source software (with license compatible with the *General Public License (GPL)*, but less restrictive, allowing Python to be even incorporated into proprietary products). The language specification is maintained by the [Python Software Foundation](http://www.python.org/psf/) (PSF)."
   ]
  },
  {
   "cell_type": "markdown",
   "metadata": {
    "deletable": true,
    "editable": true,
    "slideshow": {
     "slide_type": "slide"
    }
   },
   "source": [
    "## History\n",
    "\n",
    "The language was created in 1990 by Guido van Rossum, the National Research Institute for Mathematics and Computer Science in the Netherlands (CWI) and had originally focused on users as physicists and engineers. Python was designed from another existing language at the time, called ABC.\n",
    "\n",
    "Today, the language is well accepted in the industry for high-tech companies, such as:\n",
    "\n",
    "+ Google (Web applications).\n",
    "+ Yahoo (Web applications).\n",
    "+ Microsoft (IronPython: Python for. NET)\n",
    "+ Nokia (available for recent lines of cell phones and PDAs).\n",
    "+ Disney (3D animations)."
   ]
  },
  {
   "cell_type": "markdown",
   "metadata": {
    "deletable": true,
    "editable": true,
    "slideshow": {
     "slide_type": "slide"
    }
   },
   "source": [
    "## Versions\n",
    "\n",
    "The official implementation of Python is maintained by the PSF and written in C, and therefore is also known as CPython. The latest stable version is available for download at:\n",
    "\n",
    "[http://www.python.org/download/](http://www.python.org/download/)\n",
    "\n",
    "For Windows platforms, simply run the installer. For other platforms, such as Linux, Python is usually already part of the system, but in some cases it may be necessary to compile and install the interpreter from the source files.\n",
    "\n",
    "There are also implementations of Python for. NET (IronPython), JVM (Jython) and Python (PyPy).\n",
    "\n",
    "We are going to use Anaconda:\n",
    "\n",
    "[https://conda.io/miniconda.html](https://conda.io/miniconda.html)\n",
    "\n",
    "    conda install jupyter \n",
    "    jupyter notebook"
   ]
  },
  {
   "cell_type": "markdown",
   "metadata": {
    "deletable": true,
    "editable": true,
    "slideshow": {
     "slide_type": "slide"
    }
   },
   "source": [
    "# Running programs\n",
    "\n",
    "\n",
    "Example of Python program:"
   ]
  },
  {
   "cell_type": "code",
   "execution_count": 4,
   "metadata": {
    "collapsed": false,
    "deletable": true,
    "editable": true,
    "slideshow": {
     "slide_type": "fragment"
    }
   },
   "outputs": [
    {
     "name": "stdout",
     "output_type": "stream",
     "text": [
      "Bass\n",
      "Drums\n",
      "Guitar\n"
     ]
    }
   ],
   "source": [
    "# the character \"#\" indicates that the rest of the line is a comment\n",
    "# A list of musical instruments\n",
    "instruments = ['Bass', 'Drums', 'Guitar']\n",
    "\n",
    "# for each name in the list of instruments\n",
    "for instrument in instruments:\n",
    "    # show the name of the musical instrument\n",
    "    print(instrument)"
   ]
  },
  {
   "cell_type": "markdown",
   "metadata": {
    "deletable": true,
    "editable": true,
    "slideshow": {
     "slide_type": "fragment"
    }
   },
   "source": [
    "The source files are usually identified by the extension \".py\" and can be run directly by the interpreter:\n",
    "python apl.py\n",
    "Thus apl.py will run. On Windows, the file extensions \".py\", \". pyw\", \". pyc\" and \". pyo\" are associated with Python automatically during installation, so just click a the file to run it. The \". pyw\" files run with an alternate version of the interpreter that does not open the console window."
   ]
  },
  {
   "cell_type": "markdown",
   "metadata": {
    "deletable": true,
    "editable": true,
    "slideshow": {
     "slide_type": "slide"
    }
   },
   "source": [
    "# Dynamic Typing\n",
    "\n",
    "Python uses dynamic typing, which means that the type of a variable is inferred by the interpreter at runtime (this is known as *Duck Typing*). By the time a variable is created by attribution the interpreter defines the type of a variable, along with the operations that can be applied.\n",
    "\n",
    "Typing of Python is strong, ie, the interpreter checks whether the transactions are valid and does automatic coercions between incompatible types. In Python, coercions are performed automatically only between types that are clearly related, as integer and long integer. To perform the operation between non-compatible types, you must explicitly convert the type of the variable or variables before the operation."
   ]
  },
  {
   "cell_type": "markdown",
   "metadata": {
    "deletable": true,
    "editable": true,
    "slideshow": {
     "slide_type": "slide"
    }
   },
   "source": [
    "## Compilation and interpretation\n",
    "\n",
    "The source code is translated by Python to bytecode, which is a binary format with instructions for the interpreter. The bytecode is cross platform and can be distributed and run without the original source.\n",
    "\n",
    "<img title=\"Compilation, interpretation and packing\" src=\"files/compile.png\" width=\"800\"/>"
   ]
  },
  {
   "cell_type": "markdown",
   "metadata": {
    "deletable": true,
    "editable": true,
    "slideshow": {
     "slide_type": "slide"
    }
   },
   "source": [
    "## Interactive Mode\n",
    "\n",
    "The Python interpreter can be used interactively, where lines of code are typed into a *prompt* (command line) *shell* similar to the operating system.\n",
    "\n",
    "It is ready to receive commands after the appearance of the signal `>>>` on the screen:\n",
    "\n",
    "```\n",
    "$ python\n",
    "Python 3.6.0 |Continuum Analytics, Inc.| (default, Dec 23 2016, 13:19:00)\n",
    "[GCC 4.2.1 Compatible Apple LLVM 6.0 (clang-600.0.57)] on darwin\n",
    "Type \"help\", \"copyright\", \"credits\" or \"license\" for more information.\n",
    ">>>\n",
    "```\n",
    "\n",
    "The interactive mode is a distinguishing feature of the language, as it is possible to test and modify code snippets before inclusion in programs, to extract and convert data or even analyze the state of the objects in memory, among other possibilities."
   ]
  },
  {
   "cell_type": "markdown",
   "metadata": {
    "deletable": true,
    "editable": true,
    "slideshow": {
     "slide_type": "slide"
    }
   },
   "source": [
    "## PyCharm\n",
    "\n",
    "Besides the traditional interactive mode of Python, there are other programs that act as alternatives to more sophisticated interfaces (such as <span class=\"note\" title=\"PyCharm\">PyCharm</span>):\n",
    "<img title=\"PyCharm\" src=\"files/pycharm.jpg\" width=\"1000\"/>"
   ]
  },
  {
   "cell_type": "markdown",
   "metadata": {
    "deletable": true,
    "editable": true,
    "slideshow": {
     "slide_type": "slide"
    }
   },
   "source": [
    "# Culture\n",
    "\n",
    "\n",
    "The name Python was taken by Guido van Rossum from british TV program *Monty Python's Flying Circus*, and there are many references to the show in its documentation. For instance, Python's oficial package repository was called Cheese Shop, the name of one of the frames of the program. Currently, the repository name is [Python Package Index](http://pypi.python.org/pypi) (PYPI).\n",
    "\n",
    "The goals of the project was summarized by Tim Peters in a text called *Zen of Python*, which is available in Python itself using the command:"
   ]
  },
  {
   "cell_type": "code",
   "execution_count": 8,
   "metadata": {
    "collapsed": false,
    "deletable": true,
    "editable": true,
    "slideshow": {
     "slide_type": "slide"
    }
   },
   "outputs": [],
   "source": [
    "import this"
   ]
  }
 ],
 "metadata": {
  "celltoolbar": "Slideshow",
  "kernelspec": {
   "display_name": "Python 3",
   "language": "python",
   "name": "python3"
  },
  "language_info": {
   "codemirror_mode": {
    "name": "ipython",
    "version": 3
   },
   "file_extension": ".py",
   "mimetype": "text/x-python",
   "name": "python",
   "nbconvert_exporter": "python",
   "pygments_lexer": "ipython3",
   "version": "3.4.4"
  },
  "livereveal": {
   "theme": "serif"
  }
 },
 "nbformat": 4,
 "nbformat_minor": 2
}
