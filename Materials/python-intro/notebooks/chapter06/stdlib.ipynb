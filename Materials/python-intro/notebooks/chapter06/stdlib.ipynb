{
 "cells": [
  {
   "cell_type": "markdown",
   "metadata": {
    "deletable": true,
    "editable": true,
    "slideshow": {
     "slide_type": "slide"
    }
   },
   "source": [
    "It's often said that Python comes with \"batteries included\".\n",
    "\n",
    "Some important modules of the standard library:\n",
    "\n",
    "+ Math: math, cmath, and random decimal.\n",
    "+ System: os, glob, subprocess and shutils.\n",
    "+ Threads: threading.\n",
    "+ Persistence: pickle\n",
    "+ XML: xml.dom, xml.sax and ElementTree (since version 2.5).\n",
    "+ Configuration: ConfigParser\n",
    "+ Command line arguments: argparse\n",
    "+ Time: time and datetime.\n",
    "+ Other: sys, logging, traceback, types and timeit."
   ]
  },
  {
   "cell_type": "markdown",
   "metadata": {
    "slideshow": {
     "slide_type": "slide"
    }
   },
   "source": [
    "Maths\n",
    "-----\n",
    "\n",
    "In addition to the *builtin* numeric types in the Python standard library, there are several modules devoted to implementing other types and mathematical operations.\n",
    "\n",
    "The *math* module defines logarithmic, exponentiation, trigonometric, and hyperbolic functions, as well as angular conversions and more. The *cmath* module implements similar functions, but can handle complex numbers."
   ]
  },
  {
   "cell_type": "code",
   "execution_count": null,
   "metadata": {
    "collapsed": false,
    "deletable": true,
    "editable": true,
    "slideshow": {
     "slide_type": "slide"
    }
   },
   "outputs": [],
   "source": [
    "import math\n",
    "import cmath\n",
    "\n",
    "# Complex\n",
    "for cpx in [3j, 1.5 + 1j, -2 - 2j]:\n",
    "    # Polar coordinate conversion\n",
    "    plr = cmath.polar(cpx)\n",
    "    print('Complex:', cpx)\n",
    "    print('Polar: {} (in radians)'.format(plr))\n",
    "    print('Amplitude: {}'.format(abs(cpx)))\n",
    "    print('Angle: {} (grades)'.format(math.degrees(plr[1])))"
   ]
  },
  {
   "cell_type": "markdown",
   "metadata": {
    "deletable": true,
    "editable": true,
    "slideshow": {
     "slide_type": "slide"
    }
   },
   "source": [
    "Random\n",
    "------\n",
    "The *random* module brings functions for random number generation."
   ]
  },
  {
   "cell_type": "code",
   "execution_count": null,
   "metadata": {
    "collapsed": false,
    "deletable": true,
    "editable": true,
    "slideshow": {
     "slide_type": "fragment"
    }
   },
   "outputs": [],
   "source": [
    "import string\n",
    "import random\n",
    "\n",
    "# Choose random password with lenght 16\n",
    "print(''.join(\n",
    "    random.choice(string.ascii_uppercase)\n",
    "    for i in range(16)\n",
    "))\n",
    "\n",
    "# Choose a number from 1 to 10\n",
    "print(random.randrange(1, 11))\n",
    "\n",
    "# Choose a float from 0 to 1\n",
    "print(random.random())"
   ]
  },
  {
   "cell_type": "markdown",
   "metadata": {
    "deletable": true,
    "editable": true,
    "slideshow": {
     "slide_type": "slide"
    }
   },
   "source": [
    "Decimal\n",
    "-------\n",
    "\n",
    "Decimal module that defines operations with real numbers with fixed precision."
   ]
  },
  {
   "cell_type": "code",
   "execution_count": null,
   "metadata": {
    "collapsed": false,
    "deletable": true,
    "editable": true,
    "slideshow": {
     "slide_type": "fragment"
    }
   },
   "outputs": [],
   "source": [
    "from decimal import Decimal\n",
    "\n",
    "t = 5.\n",
    "for i in range(50):\n",
    "    t = t - 0.1\n",
    "\n",
    "print('Float:', t)\n",
    "\n",
    "t = Decimal('5.')\n",
    "for i in range(50):\n",
    "    t = t - Decimal('0.1')\n",
    "\n",
    "print('Decimal:', t)"
   ]
  },
  {
   "cell_type": "markdown",
   "metadata": {
    "deletable": true,
    "editable": true,
    "slideshow": {
     "slide_type": "slide"
    }
   },
   "source": [
    "Fractions\n",
    "---------\n",
    "\n",
    "With this module, it is possible to reduce the introduction of rounding errors arising from floating point arithmetic."
   ]
  },
  {
   "cell_type": "code",
   "execution_count": null,
   "metadata": {
    "collapsed": false,
    "deletable": true,
    "editable": true,
    "slideshow": {
     "slide_type": "fragment"
    }
   },
   "outputs": [],
   "source": [
    "from fractions import Fraction\n",
    "\n",
    "# Three fractions\n",
    "f1 = Fraction('-2/3')\n",
    "f2 = Fraction(3, 4)\n",
    "f3 = Fraction('.25')\n",
    "print('Fraction(\"-2/3\") = {}'.format(f1))\n",
    "print('Fraction(\"3, 4\") = {}'.format(f2))\n",
    "print('Fraction(\".25\") = {}'.format(f3))\n",
    "\n",
    "# Sum\n",
    "print(f1, '+', f2, '=', f1 + f2)\n",
    "print(f2, '+', f3, '=', f2 + f3)"
   ]
  },
  {
   "cell_type": "markdown",
   "metadata": {
    "deletable": true,
    "editable": true,
    "slideshow": {
     "slide_type": "slide"
    }
   },
   "source": [
    "Files and I/O\n",
    "-------------\n",
    "\n",
    "Files in Python are represented by objects which offer various methods for file operations. Files can be opened for reading ('r', which is the default), writing ('w'), or appending ('a'), in text or binary ('b') mode.\n",
    "\n",
    "In Python:\n",
    "\n",
    "+ *sys.stdin* is the standard input.\n",
    "+ *sys.stdout* is the standard output.\n",
    "+ *sys.stderr* is the standard error output.\n",
    "\n",
    "The standard input, output and error are handled by Python as open files. The input in read mode and the other in the recording mode."
   ]
  },
  {
   "cell_type": "code",
   "execution_count": null,
   "metadata": {
    "collapsed": false,
    "deletable": true,
    "editable": true,
    "slideshow": {
     "slide_type": "slide"
    }
   },
   "outputs": [],
   "source": [
    "import io\n",
    "import sys\n",
    "\n",
    "# Create an object of type file\n",
    "with io.open('temp.txt', 'w') as writer:\n",
    "    # Write output\n",
    "    for i in range(20):\n",
    "        writer.write('{:03d}\\n'.format(i))\n",
    "\n",
    "with io.open('temp.txt') as reader:\n",
    "    # Write in terminal\n",
    "    for line in reader:\n",
    "        # writing in sys.stdout sends\n",
    "        # text to standard output\n",
    "        sys.stdout.write(line)"
   ]
  },
  {
   "cell_type": "markdown",
   "metadata": {
    "deletable": true,
    "editable": true,
    "slideshow": {
     "slide_type": "slide"
    }
   },
   "source": [
    "File Systems\n",
    "------------\n",
    "\n",
    "Modern operating systems store files in hierarchical structures called *file systems*.\n",
    "\n",
    "Several features related to file systems are implemented in the module *os.path*, such as: \n",
    "\n",
    "+ `os.path.basename()`: returns the final component of a path.\n",
    "+ `os.path.dirname()`: returns a path without the final component.\n",
    "+ `os.path.exists()`: returns *True* if the path exists or *False* otherwise.\n",
    "+ `os.path.getsize()`: returns the size of the file in *bytes*.\n",
    "\n",
    "*glob* is another module related to the file system.\n",
    "\n",
    "The *glob.glob()* function returns a list of filenames that meet the criteria passed as a parameter in a similar way to the `ls` command available on UNIX systems."
   ]
  },
  {
   "cell_type": "code",
   "execution_count": null,
   "metadata": {
    "collapsed": false,
    "deletable": true,
    "editable": true,
    "slideshow": {
     "slide_type": "slide"
    }
   },
   "outputs": [],
   "source": [
    "import os\n",
    "import glob\n",
    "\n",
    "# Shows a list of file names\n",
    "# and their respective sizes \n",
    "for file in sorted(glob.glob('*.ipynb')):\n",
    "    print('{}\\t{}\\t{}'.format(\n",
    "        os.path.abspath(os.path.dirname(file)),\n",
    "        os.path.basename(file),\n",
    "        os.path.getsize(arq)\n",
    "    ))"
   ]
  },
  {
   "cell_type": "markdown",
   "metadata": {
    "deletable": true,
    "editable": true,
    "slideshow": {
     "slide_type": "slide"
    }
   },
   "source": [
    "Process execution\n",
    "----------------"
   ]
  },
  {
   "cell_type": "code",
   "execution_count": null,
   "metadata": {
    "collapsed": false,
    "deletable": true,
    "editable": true,
    "slideshow": {
     "slide_type": "fragment"
    }
   },
   "outputs": [],
   "source": [
    "import sys\n",
    "from subprocess import Popen, PIPE\n",
    "\n",
    "# Local just for testing\n",
    "host = '127.0.0.1'\n",
    "\n",
    "if sys.platform == 'win32':\n",
    "    # Windows\n",
    "    cmd = ['ping', '-n', '1', host]\n",
    "else:\n",
    "    # Linux\n",
    "    cmd = ['ping', '-c', '1', host]\n",
    "\n",
    "# Comunicates with another process\n",
    "# a pipe with the command stdout\n",
    "py = Popen(cmd, stdout=PIPE)\n",
    "\n",
    "# # Shows command output\n",
    "print(py.stdout.read().decode('utf-8'))"
   ]
  },
  {
   "cell_type": "markdown",
   "metadata": {
    "deletable": true,
    "editable": true,
    "slideshow": {
     "slide_type": "slide"
    }
   },
   "source": [
    "Time\n",
    "----\n",
    "Python has two modules to handle time:\n",
    "\n",
    "+ *Time*: implements functions that allow using the time generated by the system.\n",
    "+ *Datetime*: implements high-level types to perform date and time operations."
   ]
  },
  {
   "cell_type": "code",
   "execution_count": null,
   "metadata": {
    "collapsed": false,
    "deletable": true,
    "editable": true,
    "slideshow": {
     "slide_type": "slide"
    }
   },
   "outputs": [],
   "source": [
    "import time\n",
    "\n",
    "# asctime() returns a date and hour with string, according to\n",
    "# operating system configuration\n",
    "print(time.asctime())\n",
    "\n",
    "# time() returns system time in seconds\n",
    "ts1 = time.time()\n",
    "\n",
    "# gmtime() converts seconds to struct_time\n",
    "tt1 = time.gmtime(ts1)\n",
    "print(ts1, '->', tt1)\n",
    "\n",
    "# Adding an hour\n",
    "tt2 = time.gmtime(ts1 + 3600.)\n",
    "\n",
    "# mktime() converts struct_time  to seconds\n",
    "ts2 = time.mktime(tt2)\n",
    "print(ts2, '->', tt2)\n",
    "\n",
    "# clock() returs time since the program started, in seconds\n",
    "print('The program took', time.clock(), 'seconds up to now...')\n",
    "\n",
    "# Counting seconds...\n",
    "for i in range(5):\n",
    "    # sleep() waits the number of seconds specified as parameter\n",
    "    time.sleep(1)\n",
    "    print(i + 1, 'second(s)')"
   ]
  },
  {
   "cell_type": "code",
   "execution_count": null,
   "metadata": {
    "collapsed": false,
    "deletable": true,
    "editable": true,
    "slideshow": {
     "slide_type": "slide"
    }
   },
   "outputs": [],
   "source": [
    "import datetime\n",
    "\n",
    "# datetime() receives as parameter:\n",
    "# year, month, day, hour, minute, second and \n",
    "# returns an object of type datetime\n",
    "dt = datetime.datetime(2020, 12, 31, 23, 59, 59)\n",
    "\n",
    "# Objects date and time can be created from\n",
    "# a datetime object\n",
    "date = dt.date()\n",
    "hour = dt.time()\n",
    "\n",
    "# How many time to 12/31/2020\n",
    "dd = dt - dt.today()\n",
    "\n",
    "print('Date:', date)\n",
    "print('Hour:', hour)\n",
    "print('How many time to 12/31/2020:', dd)\n"
   ]
  },
  {
   "cell_type": "markdown",
   "metadata": {
    "deletable": true,
    "editable": true,
    "slideshow": {
     "slide_type": "slide"
    }
   },
   "source": [
    "Regulares expressions\n",
    "--------------------\n",
    "Regular expression is a form of identifying patterns in character strings. In Python, the *re* module provides a syntactic parser that allows the use of such expressions. The patterns are defined by characters that have special meaning to the parser.\n",
    "\n",
    "Main characteres:\n",
    "\n",
    "+ Point (`.`): In standard mode means any character except the newline.\n",
    "+ Circunflex (`^`): In standard mode, means beginning of the string.\n",
    "+ Dollar (`$`): In standard mode, means end of the string.\n",
    "+ Backslash (`\\`): Escape character, allows using special chars as normal chars.\n",
    "+ Brackets (`[]`): Any character of the listed inside the brackets.\n",
    "+ Asterisk (`*`): Zero or more ocurrrences of previous expression.\n",
    "+ Plus sign (`+`): One or more ocurrences of previous expression.\n",
    "+ Question mark (`?`): Zero or one ocurrence of previous expression.\n",
    "+ Braces (`{n}`): n ocurrences of previous expression.\n",
    "+ Vertical bar (`|`): logical “or”.\n",
    "+ Parenthesis (`()`): Delimit a group of expressions.\n",
    "+ `\\d`: Digit. Same as `[0-9]`.\n",
    "+ `\\D`: Non digit. Same as `[^0-9]`.\n",
    "+ `\\s`: Any spacing character (`[ \\t\\n\\r\\f\\v]`).\n",
    "+ `\\S`: Any nonspacing character (`[^ \\t\\n\\r\\f\\v]`).\n",
    "+ `\\w`: Alphanumeric character or underline (`[a-zA-Z0-9_]`).\n",
    "+ `\\W`: Not an Alphanumeric character or underline (`[^a-zA-Z0-9_]`)."
   ]
  },
  {
   "cell_type": "code",
   "execution_count": null,
   "metadata": {
    "collapsed": false,
    "deletable": true,
    "editable": true,
    "slideshow": {
     "slide_type": "slide"
    }
   },
   "outputs": [],
   "source": [
    "import re\n",
    "\n",
    "# Compile the regular expression using compile()\n",
    "# the compiled regular expression is stored and \n",
    "# can be reused\n",
    "reg = re.compile('\\w+')\n",
    "\n",
    "# Finds the occurrences according to the expression\n",
    "bands = 'Yes, Genesis & Camel'\n",
    "print(bands, '->', reg.findall(bands))\n",
    "\n",
    "# Identify occurrences of Björk (and their variations)\n",
    "bjork = re.compile('[Bb]j[öo]rk')\n",
    "for m in ('Björk', 'björk', 'Biork', 'Bjork', 'bjork'):\n",
    "    # match() finds occurrences at the beginning of the string\n",
    "    # to find at any part of the string, use search()\n",
    "    print(m, '->', bjork.match(m))\n",
    "\n",
    "# Replacing text\n",
    "text = 'The next track is Stairway to Heaven'\n",
    "print (text, '->', re.sub('[Ss]tairway [Tt]o [Hh]eaven', 'The Rover', text))\n",
    "\n",
    "# Splitting text\n",
    "bands = 'Tool, Porcupine Tree and NIN'\n",
    "print(bands, '->', re.split(',?\\s+and?\\s+', bands))"
   ]
  }
 ],
 "metadata": {
  "celltoolbar": "Slideshow",
  "kernelspec": {
   "display_name": "Python 3",
   "language": "python",
   "name": "python3"
  },
  "language_info": {
   "codemirror_mode": {
    "name": "ipython",
    "version": 3
   },
   "file_extension": ".py",
   "mimetype": "text/x-python",
   "name": "python",
   "nbconvert_exporter": "python",
   "pygments_lexer": "ipython3",
   "version": "3.6.0"
  }
 },
 "nbformat": 4,
 "nbformat_minor": 0
}
