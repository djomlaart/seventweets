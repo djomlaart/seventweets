{
 "cells": [
  {
   "cell_type": "markdown",
   "metadata": {
    "deletable": true,
    "editable": true,
    "slideshow": {
     "slide_type": "slide"
    }
   },
   "source": [
    "\n",
    "The functions generally follow the conventional process flow, return values and quit.\n",
    "\n",
    "Generators work similarly, but remember the state of the processing between calls, staying in memory and returning the next item expected when activated.\n",
    "\n",
    "The generators have several advantages over conventional functions:\n",
    "\n",
    "+ *Lazy Evaluation*: generators are only processed when it is really needed, saving processing resources. \n",
    "+ They reduce the need to create lists.\n",
    "+ They allow to work with unlimited sequences of elements.\n",
    "\n",
    "Generators are usually called through a *for* loop. The  syntax is similar to the traditional function, just the *yield* instruction substitutes *return*. In each new iteraction, *yield* returns the next value."
   ]
  },
  {
   "cell_type": "code",
   "execution_count": null,
   "metadata": {
    "collapsed": false,
    "deletable": true,
    "editable": true,
    "slideshow": {
     "slide_type": "slide"
    }
   },
   "outputs": [],
   "source": [
    "def gen_evens(n):\n",
    "    \"\"\"\n",
    "    Generates even numbers from 0 to n\n",
    "    \"\"\"\n",
    "    i = 0\n",
    "\n",
    "    while i <= n:\n",
    "        yield i\n",
    "        i += 2\n",
    "\n",
    "# Shows each number and goes to the next\n",
    "for n in gen_evens(20):\n",
    "    print(n)"
   ]
  },
  {
   "cell_type": "markdown",
   "metadata": {
    "deletable": true,
    "editable": true,
    "slideshow": {
     "slide_type": "slide"
    }
   },
   "source": [
    "``next`` function gets the next value out of the generator"
   ]
  },
  {
   "cell_type": "code",
   "execution_count": null,
   "metadata": {
    "collapsed": false,
    "slideshow": {
     "slide_type": "fragment"
    }
   },
   "outputs": [],
   "source": [
    "generator = gen_evens(20)\n",
    "\n",
    "print(next(generator))\n",
    "print(next(generator))\n",
    "print(next(generator))"
   ]
  },
  {
   "cell_type": "code",
   "execution_count": null,
   "metadata": {
    "collapsed": false,
    "slideshow": {
     "slide_type": "fragment"
    }
   },
   "outputs": [],
   "source": [
    "# And we can continue iterating from the point where the generator stopped\n",
    "\n",
    "for i in generator:\n",
    "    print(i)"
   ]
  },
  {
   "cell_type": "markdown",
   "metadata": {
    "collapsed": false,
    "deletable": true,
    "editable": true,
    "slideshow": {
     "slide_type": "slide"
    }
   },
   "source": [
    "We can also interactivly communicate with generators using the ``send`` function. To start the generator we have to send him ``None``. That will trigger the generator to start."
   ]
  },
  {
   "cell_type": "code",
   "execution_count": null,
   "metadata": {
    "collapsed": false,
    "slideshow": {
     "slide_type": "fragment"
    }
   },
   "outputs": [],
   "source": [
    "def create_generator():\n",
    "    print('Generator started, yielding 1')\n",
    "    value1 = yield 1\n",
    "    print('From generator:', value1)\n",
    "    value2 = yield value1 + 1\n",
    "    print('From generator:', value2)\n",
    "    yield value2 + 1\n",
    "    \n",
    "print('Create the generator')\n",
    "generator = create_generator()\n",
    "print('Start the generator')\n",
    "print('Result:', generator.send(None))\n",
    "print('Sending 10')\n",
    "print('Result:', generator.send(10))\n",
    "print('Sending 20')\n",
    "print('Result:', generator.send(20))"
   ]
  },
  {
   "cell_type": "markdown",
   "metadata": {
    "deletable": true,
    "editable": true,
    "slideshow": {
     "slide_type": "slide"
    }
   },
   "source": [
    "There are many generators that are builtin to the lanaguage, like ``range()``. Moreover, in the module ``itertools``, many useful generators are defined.\n",
    "\n",
    "To convert the output of a generator into a list:\n",
    "\n",
    "    alist = list(generator)\n",
    "\n",
    "That way, all the items will be generated at once."
   ]
  },
  {
   "cell_type": "code",
   "execution_count": null,
   "metadata": {
    "collapsed": false,
    "deletable": true,
    "editable": true,
    "slideshow": {
     "slide_type": "fragment"
    }
   },
   "outputs": [],
   "source": [
    "list(gen_evens(10))"
   ]
  }
 ],
 "metadata": {
  "celltoolbar": "Slideshow",
  "kernelspec": {
   "display_name": "Python 3",
   "language": "python",
   "name": "python3"
  },
  "language_info": {
   "codemirror_mode": {
    "name": "ipython",
    "version": 3
   },
   "file_extension": ".py",
   "mimetype": "text/x-python",
   "name": "python",
   "nbconvert_exporter": "python",
   "pygments_lexer": "ipython3",
   "version": "3.6.0"
  }
 },
 "nbformat": 4,
 "nbformat_minor": 0
}
