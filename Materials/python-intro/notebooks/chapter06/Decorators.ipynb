{
 "cells": [
  {
   "cell_type": "markdown",
   "metadata": {
    "slideshow": {
     "slide_type": "slide"
    }
   },
   "source": [
    "Function definition\n",
    "\n",
    "```python\n",
    "def func_name(args):\n",
    "    [code block]\n",
    "```\n",
    "is equvivalent to variable assignment:\n",
    "\n",
    "```python\n",
    "func_name = lambda args: [code block]\n",
    "```"
   ]
  },
  {
   "cell_type": "markdown",
   "metadata": {
    "deletable": true,
    "editable": true,
    "slideshow": {
     "slide_type": "slide"
    }
   },
   "source": [
    "Functions in python can return other functions"
   ]
  },
  {
   "cell_type": "code",
   "execution_count": null,
   "metadata": {
    "collapsed": false,
    "deletable": true,
    "editable": true,
    "slideshow": {
     "slide_type": "fragment"
    }
   },
   "outputs": [],
   "source": [
    "def create_operation(operator):\n",
    "    if operator == \"+\":\n",
    "        def operation(x, y):\n",
    "            return x + y\n",
    "        \n",
    "    elif operator == \"-\":\n",
    "        def operation(x, y):\n",
    "            return x - y\n",
    "        \n",
    "    return operation\n",
    "\n",
    "add = create_operation(\"+\")\n",
    "sub = create_operation(\"-\")\n",
    "print(\"add(2, 3) =>\", add(2,3))\n",
    "print(\"sub(2, 3) =>\", sub(2,3))"
   ]
  },
  {
   "cell_type": "markdown",
   "metadata": {
    "deletable": true,
    "editable": true,
    "slideshow": {
     "slide_type": "slide"
    }
   },
   "source": [
    "Functions in python can return other functions **and also take other functions as arguments**"
   ]
  },
  {
   "cell_type": "code",
   "execution_count": null,
   "metadata": {
    "collapsed": false,
    "deletable": true,
    "editable": true,
    "slideshow": {
     "slide_type": "fragment"
    }
   },
   "outputs": [],
   "source": [
    "def make_function_that_prints_its_name(function):\n",
    "    \n",
    "    def name_printing_function(*args, **kwargs):\n",
    "        print(\"Executing function: \", function.__name__)\n",
    "        return function(*args, **kwargs)\n",
    "    \n",
    "    return name_printing_function"
   ]
  },
  {
   "cell_type": "code",
   "execution_count": null,
   "metadata": {
    "collapsed": false,
    "deletable": true,
    "editable": true,
    "slideshow": {
     "slide_type": "fragment"
    }
   },
   "outputs": [],
   "source": [
    "def multiply(x, y):\n",
    "    return x * y"
   ]
  },
  {
   "cell_type": "code",
   "execution_count": null,
   "metadata": {
    "collapsed": false,
    "deletable": true,
    "editable": true,
    "slideshow": {
     "slide_type": "slide"
    }
   },
   "outputs": [],
   "source": [
    "smart_multiply = make_function_that_prints_its_name(multiply)\n",
    "\n",
    "print(multiply(3, 4))\n",
    "print()\n",
    "print(smart_multiply(3, 4))"
   ]
  },
  {
   "cell_type": "code",
   "execution_count": null,
   "metadata": {
    "collapsed": false,
    "deletable": true,
    "editable": true,
    "slideshow": {
     "slide_type": "slide"
    }
   },
   "outputs": [],
   "source": [
    "multiply = make_function_that_prints_its_name(multiply)\n",
    "\n",
    "print(multiply(3, 4))\n",
    "print('Real multiply function name:', multiply.__name__)"
   ]
  },
  {
   "cell_type": "markdown",
   "metadata": {
    "deletable": true,
    "editable": true,
    "slideshow": {
     "slide_type": "fragment"
    }
   },
   "source": [
    "The name 'multiply' does not refer to (call) the function **multiply** directly anymore. It refers to the function **name\\_printing\\_function** which itself calls the previously defined **multiply** function after printing it's name.\n",
    "\n",
    "'multiply' in the scope of name\\_printing\\_function is no longer the same as 'multiply' in the global scope\n",
    "\n",
    "What happens if we do the same thing again?"
   ]
  },
  {
   "cell_type": "code",
   "execution_count": null,
   "metadata": {
    "collapsed": false,
    "deletable": true,
    "editable": true,
    "slideshow": {
     "slide_type": "fragment"
    }
   },
   "outputs": [],
   "source": [
    "multiply = make_function_print_its_name(multiply)\n",
    "\n",
    "multiply(3,4)"
   ]
  },
  {
   "cell_type": "markdown",
   "metadata": {
    "deletable": true,
    "editable": true,
    "slideshow": {
     "slide_type": "slide"
    }
   },
   "source": [
    "Lets take another example:\n",
    "\n",
    "```python\n",
    "def divide(x, y):\n",
    "    return x / y\n",
    "```\n",
    "\n",
    "We could make it print it's name like this:\n",
    "\n",
    "```python\n",
    "divide = make_function_that_prints_its_name(divide)\n",
    "```\n",
    "    \n",
    "Or we can do it with a more elegant syntax:"
   ]
  },
  {
   "cell_type": "code",
   "execution_count": null,
   "metadata": {
    "collapsed": true,
    "deletable": true,
    "editable": true,
    "slideshow": {
     "slide_type": "fragment"
    }
   },
   "outputs": [],
   "source": [
    "@make_function_that_prints_its_name\n",
    "def divide(x, y):\n",
    "    return x / y"
   ]
  },
  {
   "cell_type": "code",
   "execution_count": null,
   "metadata": {
    "collapsed": false,
    "deletable": true,
    "editable": true,
    "slideshow": {
     "slide_type": "fragment"
    }
   },
   "outputs": [],
   "source": [
    "divide(10, 2)"
   ]
  },
  {
   "cell_type": "markdown",
   "metadata": {
    "slideshow": {
     "slide_type": "slide"
    }
   },
   "source": [
    "Decorators are just a syntactic sugar\n",
    "\n",
    "```python\n",
    "@decorator\n",
    "def function_name(args):\n",
    "    [code block]\n",
    "```\n",
    "\n",
    "is syntacticly same as:\n",
    "\n",
    "```python\n",
    "function_name = decorator(lambda args: [code block])\n",
    "```\n",
    "\n",
    "(I'm using lambdas here to represent creation of anonimous functions)."
   ]
  },
  {
   "cell_type": "markdown",
   "metadata": {
    "deletable": true,
    "editable": true,
    "slideshow": {
     "slide_type": "slide"
    }
   },
   "source": [
    "### Exercise:\n",
    "\n",
    "Write a decorator which raises an Exception if all arguments passed to the decorated function are not integers\n",
    "\n",
    "`type(x) == int`"
   ]
  },
  {
   "cell_type": "code",
   "execution_count": null,
   "metadata": {
    "collapsed": true,
    "deletable": true,
    "editable": true,
    "slideshow": {
     "slide_type": "slide"
    }
   },
   "outputs": [],
   "source": [
    "def args_must_be_int(function):\n",
    "    \n",
    "    def decorated_function(*args):\n",
    "        if all(type(arg) == int for arg in args):\n",
    "            return function(*args)\n",
    "        else:\n",
    "            raise Exception(\"All arguments to this funciton must be integers\")\n",
    "            \n",
    "    return decorated_function"
   ]
  },
  {
   "cell_type": "code",
   "execution_count": null,
   "metadata": {
    "collapsed": true,
    "deletable": true,
    "editable": true,
    "slideshow": {
     "slide_type": "fragment"
    }
   },
   "outputs": [],
   "source": [
    "@args_must_be_int\n",
    "def subtract(x, y):\n",
    "    return x - y"
   ]
  },
  {
   "cell_type": "code",
   "execution_count": null,
   "metadata": {
    "collapsed": false,
    "deletable": true,
    "editable": true,
    "slideshow": {
     "slide_type": "fragment"
    }
   },
   "outputs": [],
   "source": [
    "subtract(3, 2)"
   ]
  },
  {
   "cell_type": "code",
   "execution_count": null,
   "metadata": {
    "collapsed": false,
    "deletable": true,
    "editable": true,
    "slideshow": {
     "slide_type": "fragment"
    }
   },
   "outputs": [],
   "source": [
    "subtract(2.5, 1)"
   ]
  },
  {
   "cell_type": "markdown",
   "metadata": {
    "slideshow": {
     "slide_type": "slide"
    }
   },
   "source": [
    "The only problem with decorators is that the returned function does not have all attributes as the original function:"
   ]
  },
  {
   "cell_type": "code",
   "execution_count": null,
   "metadata": {
    "collapsed": false,
    "slideshow": {
     "slide_type": "fragment"
    }
   },
   "outputs": [],
   "source": [
    "def decorator(func):\n",
    "    def wrapper(*args, **kwargs):\n",
    "        return func(*args, **kwargs)\n",
    "    return wrapper\n",
    "\n",
    "@decorator\n",
    "def my_function(x, y):\n",
    "    \"\"\"This function adds two numbers\"\"\"\n",
    "    return x + y\n",
    "\n",
    "print(my_function(3, 4))\n",
    "print(my_function.__name__)\n",
    "print(my_function.__doc__)"
   ]
  },
  {
   "cell_type": "markdown",
   "metadata": {
    "slideshow": {
     "slide_type": "slide"
    }
   },
   "source": [
    "We can fix this with using the standard library module functools:"
   ]
  },
  {
   "cell_type": "code",
   "execution_count": null,
   "metadata": {
    "collapsed": false,
    "slideshow": {
     "slide_type": "fragment"
    }
   },
   "outputs": [],
   "source": [
    "import functools\n",
    "\n",
    "def decorator(func):\n",
    "    @functools.wraps(func)\n",
    "    def wrapper(*args, **kwargs):\n",
    "        return func(*args, **kwargs)\n",
    "    return wrapper\n",
    "\n",
    "@decorator\n",
    "def my_function(x, y):\n",
    "    \"\"\"This function adds two numbers\"\"\"\n",
    "    return x + y\n",
    "\n",
    "print(my_function(3, 4))\n",
    "print(my_function.__name__)\n",
    "print(my_function.__doc__)"
   ]
  },
  {
   "cell_type": "markdown",
   "metadata": {
    "slideshow": {
     "slide_type": "fragment"
    }
   },
   "source": [
    "`functool.wraps` is a decorator that we use on the `wrapper` function to preserve all attributes of the original function during the decoration process. "
   ]
  }
 ],
 "metadata": {
  "celltoolbar": "Slideshow",
  "kernelspec": {
   "display_name": "Python 3",
   "language": "python",
   "name": "python3"
  },
  "language_info": {
   "codemirror_mode": {
    "name": "ipython",
    "version": 3
   },
   "file_extension": ".py",
   "mimetype": "text/x-python",
   "name": "python",
   "nbconvert_exporter": "python",
   "pygments_lexer": "ipython3",
   "version": "3.6.0"
  }
 },
 "nbformat": 4,
 "nbformat_minor": 2
}
