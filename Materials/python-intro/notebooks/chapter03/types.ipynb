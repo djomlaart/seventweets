{
 "cells": [
  {
   "cell_type": "markdown",
   "metadata": {
    "deletable": true,
    "editable": true,
    "slideshow": {
     "slide_type": "slide"
    }
   },
   "source": [
    "# Types\n",
    "\n",
    "Variables in the Python interpreter are created by assignment and destroyed by the garbage collector, when there are no more references to them.\n",
    "\n",
    "Variable names must start with a letter or underscore (`_`) and be followed by letters, digits or underscores (`_`). Python is case sensitive.\n",
    "\n",
    "There are several simple types of data:\n",
    "\n",
    "+ Numbers (integer, real, complex, ... )\n",
    "+ Text\n",
    "\n",
    "Furthermore, there are types that function as collections:\n",
    "\n",
    "+ List\n",
    "+ Tuple\n",
    "+ Dictionary"
   ]
  },
  {
   "cell_type": "markdown",
   "metadata": {
    "deletable": true,
    "editable": true,
    "slideshow": {
     "slide_type": "slide"
    }
   },
   "source": [
    "Python types can be:\n",
    "\n",
    "+ Mutable: allow the contents of the variables to be changed.\n",
    "+ Immutable: do not allow the contents of variables to be changed.\n",
    "\n",
    "In Python, variable names are references that can be changed at execution time.\n",
    "\n",
    "The most common types and routines are implemented in the form of *builtins*, i.e. they are always available at runtime, without the need to import any library."
   ]
  },
  {
   "cell_type": "markdown",
   "metadata": {
    "deletable": true,
    "editable": true,
    "slideshow": {
     "slide_type": "slide"
    }
   },
   "source": [
    "## Numbers\n",
    "\n",
    "Python provides some numeric types as *builtins*:\n",
    "\n",
    "+ Integer (*int*): i = 1\n",
    "+ Floating Point real (*float*): f = 3.14\n",
    "+ Complex (*complex*): c = 3 + 4j\n",
    "\n",
    "In addition to the conventional integers, there are also long integers, whose dimensions are arbitrary and limited by the available memory. Conversions between integer and long are performed automatically. The builtin function `int()` can be used to convert other types to integer, including base changes."
   ]
  },
  {
   "cell_type": "code",
   "execution_count": null,
   "metadata": {
    "collapsed": false,
    "deletable": true,
    "editable": true,
    "slideshow": {
     "slide_type": "slide"
    }
   },
   "outputs": [],
   "source": [
    "# Converting real to integer\n",
    "print('int(3.14) =', int(3.14))\n",
    "\n",
    "# Converting integer to real\n",
    "print('float(5) =', float(5))\n",
    "\n",
    "# Calculation between integer and real results in real\n",
    "print('5.0 / 2 + 3 = ', 5.0 / 2 + 3)\n",
    "\n",
    "# Integers in other base\n",
    "print('int(\"20\", 8) =', int('20', 8))    # base 8\n",
    "print('int(\"20\", 16) =', int('20', 16))  # base 16\n",
    "\n",
    "# Operations with complex numbers\n",
    "c = 3 + 4j\n",
    "print('c =', c)\n",
    "print('Real Part:', c.real)\n",
    "print('Imaginary Part:', c.imag)\n",
    "print('Conjugate:', c.conjugate())"
   ]
  },
  {
   "cell_type": "markdown",
   "metadata": {
    "deletable": true,
    "editable": true,
    "slideshow": {
     "slide_type": "slide"
    }
   },
   "source": [
    "### Arithmetic Operations:\n",
    "\n",
    "+ Sum (`+`)\n",
    "+ Difference (`-`)\n",
    "+ Multiplication (`*`)\n",
    "+ Division (`/`)\n",
    "+ Integer Division (`//`)\n",
    "+ Module (`%`)\n",
    "+ Power (`**`): can be used to calculate the root, through fractional exponents (eg `100 ** 0.5`).\n",
    "+ Positive (`+`)\n",
    "+ Negative (`-`)"
   ]
  },
  {
   "cell_type": "markdown",
   "metadata": {
    "deletable": true,
    "editable": true,
    "slideshow": {
     "slide_type": "slide"
    }
   },
   "source": [
    "### Logical Operations:\n",
    "\n",
    "+ Less than (<)\n",
    "+ Greater than (>)\n",
    "+ Less than or equal to (<=)\n",
    "+ Greater than or equal to (>=)\n",
    "+ Equal to (==)\n",
    "+ Not equal to (!=)"
   ]
  },
  {
   "cell_type": "markdown",
   "metadata": {
    "deletable": true,
    "editable": true,
    "slideshow": {
     "slide_type": "slide"
    }
   },
   "source": [
    "## Bitwise Operations:\n",
    "\n",
    "+ Left Shift (<<)\n",
    "+ Right Shift (>>)\n",
    "+ And (&)\n",
    "+ Or (|)\n",
    "+ Exclusive Or (^)\n",
    "+ Inversion (~)"
   ]
  },
  {
   "cell_type": "markdown",
   "metadata": {
    "slideshow": {
     "slide_type": "slide"
    }
   },
   "source": [
    "### Exercise:"
   ]
  },
  {
   "cell_type": "markdown",
   "metadata": {
    "slideshow": {
     "slide_type": "fragment"
    }
   },
   "source": [
    "1) Make a function which checks if a number x is prime, by checking if there is a remainder after dividing it with all numbers < x/2.\n",
    "\n",
    "    def is_prime(x):\n",
    "        ...code...\n",
    "\n",
    "2) Use the above function to find \n",
    "    2.1) first prime > 20  \n",
    "    2.2) first 10 primes\n",
    "    2.3) second 10 primes"
   ]
  },
  {
   "cell_type": "markdown",
   "metadata": {
    "deletable": true,
    "editable": true,
    "slideshow": {
     "slide_type": "slide"
    }
   },
   "source": [
    "## Text\n",
    "\n",
    "*Strings* are  Python *builtins* for handling text. As they are immutable, you can not add, remove or change any character in a *string*. To perform these operations, Python needs to create a new *string*.\n",
    "\n",
    "Types:\n",
    "\n",
    "+ Bytes: `s = b'Led Zeppelin'`\n",
    "+ Unicode String: `u = u'Björk'` or just `u = 'Björk'`\n",
    "\n",
    "String initializations can be made:\n",
    "\n",
    "+ With single or double quotes.\n",
    "+ On several consecutive lines, provided that it's between three single or double quotes."
   ]
  },
  {
   "cell_type": "code",
   "execution_count": null,
   "metadata": {
    "collapsed": false,
    "deletable": true,
    "editable": true,
    "slideshow": {
     "slide_type": "slide"
    }
   },
   "outputs": [],
   "source": [
    "s = 'Camel'\n",
    "\n",
    "# Concatenation\n",
    "print('The ' + s + ' ran away!')\n",
    "\n",
    "# Interpolation\n",
    "print('Size of {} => {}'.format(s, len(s)))\n",
    "\n",
    "# String processed as a sequence\n",
    "for ch in s:\n",
    "    print(ch)\n",
    "\n",
    "# Strings are objects\n",
    "if s.startswith('C'):\n",
    "    print(s.upper())\n",
    "\n",
    "# what will happen? \n",
    "print(3 * s)\n",
    "# 3 * s is consistent with s + s + s\n",
    "\n",
    "multiline_string = \"\"\"line 0\n",
    "line 1\n",
    "line 2\n",
    "\"\"\"\n",
    "print(multiline_string)\n"
   ]
  },
  {
   "cell_type": "markdown",
   "metadata": {
    "deletable": true,
    "editable": true,
    "slideshow": {
     "slide_type": "slide"
    }
   },
   "source": [
    "### String formatting"
   ]
  },
  {
   "cell_type": "code",
   "execution_count": null,
   "metadata": {
    "collapsed": false,
    "deletable": true,
    "editable": true,
    "slideshow": {
     "slide_type": "fragment"
    }
   },
   "outputs": [],
   "source": [
    "# Zeros left\n",
    "print('Now is {:d}:{:d}.'.format(16, 30))\n",
    "\n",
    "# Real (The number after the decimal point specifies how many decimal digits )\n",
    "print('Percent: {0:.1f}, Exponencial: {1:.2e}'.format(5.333, 0.00314))\n",
    "\n",
    "# Octal and hexadecimal\n",
    "print('Decimal: {0:d}, Octal: {0:o}, Hexadecimal: {0:x}'.format(10))"
   ]
  },
  {
   "cell_type": "code",
   "execution_count": null,
   "metadata": {
    "collapsed": false,
    "deletable": true,
    "editable": true,
    "slideshow": {
     "slide_type": "slide"
    }
   },
   "outputs": [],
   "source": [
    "musicians = [\n",
    "    ('Page', 'guitarist', 'Led Zeppelin'),\n",
    "    ('Fripp', 'guitarist', 'King Crimson')\n",
    "]\n",
    "\n",
    "# Parameters are identified by order\n",
    "msg = '{0} is {1} of {2}'\n",
    "\n",
    "for name, function, band in musicians:\n",
    "    print(msg.format(name, function, band))\n",
    "\n",
    "# Parameters are identified by name\n",
    "msg = '{greeting}, it is {hour:02d}:{minute:02d}'\n",
    "\n",
    "print(msg.format(greeting='Good Morning', hour=7, minute=30))\n",
    "\n",
    "# Builtin function format()\n",
    "print('Pi =', format(3.14159, '.3e'))"
   ]
  },
  {
   "cell_type": "markdown",
   "metadata": {
    "deletable": true,
    "editable": true,
    "slideshow": {
     "slide_type": "slide"
    }
   },
   "source": [
    "## String indexing\n",
    "\n",
    "*Slices* of *strings* can be obtained by adding indexes between brackets after a  *string*.\n",
    "\n",
    "<img title=\"Slicing strings\" src=\"files/indexing.png\" width=\"800\" />"
   ]
  },
  {
   "cell_type": "markdown",
   "metadata": {
    "deletable": true,
    "editable": true,
    "slideshow": {
     "slide_type": "slide"
    }
   },
   "source": [
    "Python indexes:\n",
    "\n",
    "+ Start with zero.\n",
    "+ Count from the end if they are negative.\n",
    "+ Can be defined as sections, in the form `[start: end + 1: step]`. If not set the start, it will be considered as zero. If not set end + 1, it will be considered the size of the object. The step (between characters), if not set, is 1.\n",
    "\n",
    "It is possible to invert *strings* by using a negative step:"
   ]
  },
  {
   "cell_type": "code",
   "execution_count": null,
   "metadata": {
    "collapsed": false,
    "deletable": true,
    "editable": true,
    "slideshow": {
     "slide_type": "fragment"
    }
   },
   "outputs": [],
   "source": [
    "print('Python'[::-1])"
   ]
  },
  {
   "cell_type": "markdown",
   "metadata": {
    "deletable": true,
    "editable": true,
    "slideshow": {
     "slide_type": "slide"
    }
   },
   "source": [
    "The *unicode* strings can be converted to bytes through the `encode()` method and the reverse path can be done by the method `decode()`.\n",
    "Example:"
   ]
  },
  {
   "cell_type": "code",
   "execution_count": null,
   "metadata": {
    "collapsed": false,
    "deletable": true,
    "editable": true,
    "slideshow": {
     "slide_type": "fragment"
    }
   },
   "outputs": [],
   "source": [
    "# Unicode String \n",
    "u = u'Hüsker Dü'\n",
    "\n",
    "# Convert to bytes\n",
    "s = u.encode('utf-8')\n",
    "print(repr(s), '=>', type(s))\n",
    "\n",
    "# Convert from bytes\n",
    "u = s.decode('utf-8')\n",
    "\n",
    "print(repr(u), '=>', type(u))"
   ]
  },
  {
   "cell_type": "code",
   "execution_count": null,
   "metadata": {
    "collapsed": false,
    "slideshow": {
     "slide_type": "slide"
    }
   },
   "outputs": [],
   "source": [
    "# some usefull string functions\n",
    "\n",
    "\n",
    "print( '\"string\".capitalize() => ' + 'string'.capitalize() )\n",
    "print( '\"string\".upper()      => ' + 'string'.upper() )\n",
    "print( '\"STRIng\".lower()      => ' + 'STRIng'.lower() )\n",
    "print()\n",
    "print('\"---string---\".strip(\"-\")   => ' + '---string---'.strip('-'))\n",
    "print()\n",
    "print( '\"two words\".split(\" \")     => ' + str(  'two words'.split(' ') ) )\n",
    "print()\n",
    "print( '\" \".join([\"two\", \"words\"]) => ' +  ' '.join([\"two\", \"words\"]) )\n"
   ]
  },
  {
   "cell_type": "markdown",
   "metadata": {
    "deletable": true,
    "editable": true,
    "slideshow": {
     "slide_type": "slide"
    }
   },
   "source": [
    "# Lists\n",
    "\n",
    "Lists are collections of heterogeneous objects, which can be of any type, including other lists.\n",
    "\n",
    "Lists in the Python are mutable and can be changed at any time. Lists can be sliced in the same way as *strings*, but as the lists are mutable, it is possible to make assignments to the list items.\n",
    "\n",
    "Syntax:\n",
    "\n",
    "    list = [a, b, ..., z]"
   ]
  },
  {
   "cell_type": "code",
   "execution_count": null,
   "metadata": {
    "collapsed": false,
    "deletable": true,
    "editable": true,
    "slideshow": {
     "slide_type": "slide"
    }
   },
   "outputs": [],
   "source": [
    "# a new list: 70s Brit Progs\n",
    "progs = ['Yes', 'Genesis', 'Pink Floyd', 'ELP']\n",
    "\n",
    "# processing the entire list\n",
    "for prog in progs:\n",
    "    print(prog)\n",
    "print()\n",
    "\n",
    "# Changing the last element\n",
    "progs[-1] = 'King Crimson'\n",
    "\n",
    "# Ordering \n",
    "progs.sort()\n",
    "# Inverting\n",
    "progs.reverse()\n",
    "\n",
    "# Removing\n",
    "progs.remove('Pink Floyd')\n",
    "# Including\n",
    "progs.append('Camel')\n",
    "# extending\n",
    "progs.extend(['Led Zeppelin', 'Rolling stones'])\n",
    "\n",
    "# prints with number order\n",
    "for i, prog in enumerate(progs):\n",
    "    print(i + 1, '=>', prog)\n",
    "print()\n"
   ]
  },
  {
   "cell_type": "code",
   "execution_count": null,
   "metadata": {
    "collapsed": false,
    "deletable": true,
    "editable": true,
    "slideshow": {
     "slide_type": "slide"
    }
   },
   "outputs": [],
   "source": [
    "# Other list operations\n",
    "\n",
    "my_list = ['A', 'B', 'C']\n",
    "print('list:', my_list)\n",
    "\n",
    "# The empty list is evaluated as false\n",
    "while my_list:\n",
    "    # In queues, the first item is the first to go out\n",
    "    # pop(0) removes and returns the first item \n",
    "    print('Left', my_list.pop(0), ', remain', len(my_list))\n",
    "print()\n",
    "\n",
    "# More items on the list\n",
    "my_list += ['D', 'E', 'F']\n",
    "print('list:', my_list)\n",
    "\n",
    "while my_list:\n",
    "    # On stacks, the first item is the last to go out\n",
    "    # pop() removes and retorns the last item\n",
    "    print('Left', my_list.pop(), ', remain', len(my_list))"
   ]
  },
  {
   "cell_type": "markdown",
   "metadata": {
    "slideshow": {
     "slide_type": "slide"
    }
   },
   "source": [
    "## IN operator\n",
    "\n",
    "Returns True if elemnt is in the list, otherwise False"
   ]
  },
  {
   "cell_type": "code",
   "execution_count": null,
   "metadata": {
    "collapsed": false,
    "slideshow": {
     "slide_type": "fragment"
    }
   },
   "outputs": [],
   "source": [
    "l = [1, 2, 3]\n",
    "\n",
    "print(20 in l) \n",
    "\n",
    "if 1 in l:\n",
    "    print(\"'1' is in the list\")"
   ]
  },
  {
   "cell_type": "markdown",
   "metadata": {
    "slideshow": {
     "slide_type": "slide"
    }
   },
   "source": [
    "## List comprehension"
   ]
  },
  {
   "cell_type": "code",
   "execution_count": null,
   "metadata": {
    "collapsed": false,
    "slideshow": {
     "slide_type": "fragment"
    }
   },
   "outputs": [],
   "source": [
    "# list comprehension\n",
    "\n",
    "squares = [x**2 for x in range(1, 11)]\n",
    "\n",
    "print(\"Squares: \", squares)\n",
    "print()\n",
    "\n",
    "########\n",
    "\n",
    "squares_of_even = [x**2 for x in range(1, 11) if x%2==0]\n",
    "\n",
    "print(squares_of_even)"
   ]
  },
  {
   "cell_type": "markdown",
   "metadata": {
    "slideshow": {
     "slide_type": "fragment"
    }
   },
   "source": [
    "Implemented in C so faster than for loops."
   ]
  },
  {
   "cell_type": "markdown",
   "metadata": {
    "slideshow": {
     "slide_type": "slide"
    }
   },
   "source": [
    "## Exercise:"
   ]
  },
  {
   "cell_type": "markdown",
   "metadata": {
    "slideshow": {
     "slide_type": "fragment"
    }
   },
   "source": [
    " Take an example sentence\n",
    " \n",
    " \"The quick brown fox jumps over the lazy dog.\"\n",
    " \n",
    "     1) make a list of all 5 letter words in it\n",
    "     2) inverse word order"
   ]
  },
  {
   "cell_type": "markdown",
   "metadata": {
    "deletable": true,
    "editable": true,
    "slideshow": {
     "slide_type": "slide"
    }
   },
   "source": [
    "## Tuples\n",
    "\n",
    "Similar to lists, but immutable:\n",
    "\n",
    "    one_element_tuple = (1,) \n",
    "    mulity_element_tuple = (a, b, ..., z)\n",
    "\n",
    "The parentheses are optional.\n",
    "\n",
    "The tuple elements can be referenced the same way as the elements of a list:\n",
    "\n",
    "    first_element = tuple[0]\n",
    "\n",
    "Lists can be converted into tuples and vice versa:\n",
    "\n",
    "    my_tuple = tuple(my_list)\n",
    "    my_list = list(my_tuple)\n",
    "\n",
    "While tuple can contain mutable elements, these elements can not undergo assignment, as this would change the reference to the object."
   ]
  },
  {
   "cell_type": "code",
   "execution_count": null,
   "metadata": {
    "collapsed": false,
    "deletable": true,
    "editable": true,
    "slideshow": {
     "slide_type": "slide"
    }
   },
   "outputs": [],
   "source": [
    "t = ([1, 2], 4)\n",
    "t[0].append(3)\n",
    "print(t)\n",
    "try:\n",
    "    t[0] = [1, 2, 3]\n",
    "except TypeError as e:\n",
    "    print(e)"
   ]
  },
  {
   "cell_type": "markdown",
   "metadata": {
    "deletable": true,
    "editable": true,
    "slideshow": {
     "slide_type": "fragment"
    }
   },
   "source": [
    "Tuples are more efficient than conventional lists, as they consume less computing resources (memory) because they are simpler structures the same way *immutable* strings are in relation to *mutable* strings."
   ]
  },
  {
   "cell_type": "markdown",
   "metadata": {
    "deletable": true,
    "editable": true,
    "slideshow": {
     "slide_type": "slide"
    }
   },
   "source": [
    "## Other types of sequences\n",
    "Also in the *builtins*, Python provides:\n",
    "\n",
    "+ *set*: mutable sequence univocal (without repetitions) unordered.\n",
    "+ *frozenset*: immutable sequence univocal unordered.\n",
    "\n",
    "Both types implement set operations, such as: union, intersection e difference."
   ]
  },
  {
   "cell_type": "code",
   "execution_count": null,
   "metadata": {
    "collapsed": false,
    "deletable": true,
    "editable": true,
    "slideshow": {
     "slide_type": "slide"
    }
   },
   "outputs": [],
   "source": [
    "s1 = {0, 1, 2, 3, 4}\n",
    "s2 = set(range(2, 10, 2))\n",
    "\n",
    "# Shows the data\n",
    "print('s1:', s1, '\\ns2:', s2)\n",
    "\n",
    "# Union\n",
    "print('Union of s1 and s2:', s1.union(s2))\n",
    "\n",
    "# Difference\n",
    "print('Difference with s3:', s1.difference(s2))\n",
    "\n",
    "# Intersection\n",
    "print('Intersection with s3:', s1.intersection(s2))\n",
    "\n",
    "# Tests if a set includes the other\n",
    "if s1.issuperset([1, 2]):\n",
    "    print('s1 includes 1 and 2')\n",
    "\n",
    "# Tests if there is no common elements\n",
    "if s1.isdisjoint(s2):\n",
    "    print('s1 and s2 have no common elements')\n",
    "    \n",
    "# When one list is converted to a *set*, the repetitions are discarded.\n",
    "s4 = set([0, 0, 1, 1, 1, 2, 3, 4])\n",
    "print('s1 == s4 =', s1 == s4)"
   ]
  },
  {
   "cell_type": "markdown",
   "metadata": {
    "deletable": true,
    "editable": true,
    "slideshow": {
     "slide_type": "slide"
    }
   },
   "source": [
    "# Dictionaries\n",
    "\n",
    "A dictionary is a list of associations composed by a unique key and corresponding structures. Dictionaries are mutable, like lists.\n",
    "\n",
    "The key must be an immutable type, usually strings, but can also be tuples or numeric types. On the other hand the items of dictionaries can be either mutable or immutable. The Python dictionary provides no guarantee that the keys are ordered.\n",
    "\n",
    "Syntax:\n",
    "\n",
    "    dictionary = {\n",
    "        'a': a,\n",
    "        'b': b,\n",
    "        ...,\n",
    "        'z': z\n",
    "    }"
   ]
  },
  {
   "cell_type": "markdown",
   "metadata": {
    "deletable": true,
    "editable": true,
    "slideshow": {
     "slide_type": "slide"
    }
   },
   "source": [
    "Structure:\n",
    "\n",
    "<img title=\"Structure of a dictionary\" src=\"files/dictionary.png\" width=\"1000\" />"
   ]
  },
  {
   "cell_type": "markdown",
   "metadata": {
    "deletable": true,
    "editable": true,
    "slideshow": {
     "slide_type": "slide"
    }
   },
   "source": [
    "Example of a dictionary:\n",
    "```python\n",
    "    d = {\n",
    "        'name': 'Shirley Manson',\n",
    "        'band': 'Garbage'\n",
    "    }\n",
    "```\n",
    "Acessing elements:\n",
    "```python\n",
    "    d['name']\n",
    "```\n",
    "Adding elements:\n",
    "```python\n",
    "    d['album'] = 'Version 2.0'\n",
    "```\n",
    "Removing one element from a dictionary:\n",
    "```python\n",
    "    del d['album']\n",
    "```\n",
    "Getting the items, keys and values:\n",
    "```python\n",
    "    items = d.items()\n",
    "    keys = d.keys()\n",
    "    values = d.values()\n",
    "```"
   ]
  },
  {
   "cell_type": "code",
   "execution_count": null,
   "metadata": {
    "collapsed": false,
    "deletable": true,
    "editable": true,
    "slideshow": {
     "slide_type": "slide"
    }
   },
   "outputs": [],
   "source": [
    "# Progs and their albums\n",
    "progs = {\n",
    "    'Yes': ['Close To The Edge', 'Fragile'],\n",
    "    'Genesis': ['Foxtrot', 'The Nursery Crime'],\n",
    "    'ELP': ['Brain Salad Surgery']\n",
    "}\n",
    "\n",
    "# More progs\n",
    "progs['King Crimson'] = ['Red', 'Discipline']\n",
    "\n",
    "# items() returns a list of \n",
    "# tuples with key and value \n",
    "for prog, albums in progs.items():\n",
    "    print(prog, '=>', albums)\n",
    "\n",
    "# If there is 'ELP', removes\n",
    "if 'ELP' in progs:\n",
    "    del progs['ELP']\n",
    "print(progs.keys())"
   ]
  },
  {
   "cell_type": "markdown",
   "metadata": {
    "deletable": true,
    "editable": true,
    "slideshow": {
     "slide_type": "slide"
    }
   },
   "source": [
    "Sparse matrix example:"
   ]
  },
  {
   "cell_type": "code",
   "execution_count": null,
   "metadata": {
    "collapsed": false,
    "deletable": true,
    "editable": true,
    "slideshow": {
     "slide_type": "fragment"
    }
   },
   "outputs": [],
   "source": [
    "# Sparse Matrix implemented with dictionary\n",
    "\n",
    "\n",
    "dim = 6, 12\n",
    "mat = {}\n",
    "\n",
    "# Tuples are immutable, so each tuple represents a position\n",
    "# in the matrix\n",
    "mat[3, 7] = 3\n",
    "mat[4, 6] = 5\n",
    "mat[6, 3] = 7\n",
    "mat[5, 4] = 6\n",
    "mat[2, 9] = 4\n",
    "mat[1, 0] = 9\n",
    "\n",
    "for lin in range(dim[0]):\n",
    "    for col in range(dim[1]):\n",
    "        print(mat.get((lin, col), 0), end=' ')\n",
    "    print()"
   ]
  },
  {
   "cell_type": "markdown",
   "metadata": {
    "slideshow": {
     "slide_type": "slide"
    }
   },
   "source": [
    "## Dict comprehension"
   ]
  },
  {
   "cell_type": "code",
   "execution_count": null,
   "metadata": {
    "collapsed": false,
    "slideshow": {
     "slide_type": "fragment"
    }
   },
   "outputs": [],
   "source": [
    "# dict comprehension\n",
    "\n",
    "d = {n: n**2 for n in range(1, 6) }\n",
    "\n",
    "print(d)\n",
    "print()\n",
    "\n",
    "######\n",
    "    \n",
    "\n",
    "d2 = {'**'.join([str(k),'2']): str(v) for k, v in d.items()}\n",
    "print(d2)\n",
    "print()\n",
    "\n",
    "#######\n",
    "\n",
    "roots_of_even = {v: k for k, v in d.items() if v%2==0}\n",
    "print(roots_of_even)\n",
    "print()\n",
    "\n"
   ]
  },
  {
   "cell_type": "markdown",
   "metadata": {
    "slideshow": {
     "slide_type": "slide"
    }
   },
   "source": [
    "## Exercise"
   ]
  },
  {
   "cell_type": "markdown",
   "metadata": {
    "slideshow": {
     "slide_type": "fragment"
    }
   },
   "source": [
    "Take an example sentence:\n",
    "    \n",
    "    \"The quick brown fox jumps over the lazy dog\"\n",
    "    \n",
    "    1) Make a dictionary from this string in which keys are words in the sentence, and values are it's lengths\n",
    "    2) Make a new dictionary which contains all non 5 letter words from the previus one"
   ]
  },
  {
   "cell_type": "code",
   "execution_count": null,
   "metadata": {
    "collapsed": false
   },
   "outputs": [],
   "source": [
    "s = \"The quick brown fox jumps over the lazy dog\"\n",
    "\n",
    "d = {w: len(w) for w in s.split(\" \")}\n",
    "\n",
    "print(d)\n",
    "\n",
    "d2 = {k, v for k,v in }"
   ]
  },
  {
   "cell_type": "markdown",
   "metadata": {
    "deletable": true,
    "editable": true,
    "slideshow": {
     "slide_type": "slide"
    }
   },
   "source": [
    "# True, False and Null\n",
    "\n",
    "\n",
    "In Python, the boolean type (*bool*) is a specialization of the integer type (*int*). The *True* value is equal to 1, while the *False* value is equal to zero.\n",
    "\n",
    "The following values ​​are considered false:\n",
    "\n",
    "+ `False`.\n",
    "+ `None` (null).\n",
    "+ `0` (zero).\n",
    "+ `''` (empty string).\n",
    "+ `[]` (empty list).\n",
    "+ `()` (empty tuple).\n",
    "+ `{}` (empty dicionary).\n",
    "+ Other structures with size equal zero.\n",
    "\n",
    "All other objects out of that list are considered true.\n",
    "\n",
    "The object *None*, which is of type *NoneType*, in Python represents the null and is evaluated as false by the interpreter."
   ]
  },
  {
   "cell_type": "markdown",
   "metadata": {
    "deletable": true,
    "editable": true,
    "slideshow": {
     "slide_type": "slide"
    }
   },
   "source": [
    "## Boolean Operators\n",
    "\n",
    "Boolean operators in Python are: *and*, *or* , *not* , *is* , *in*.\n",
    "\n",
    "+ `and`: boolean and.\n",
    "+ `or` : boolean or.\n",
    "+ `not` : boolean not.\n",
    "+ `is`: returns true if it receives two references to the same object false otherwise.\n",
    "+ `in` : returns true if you receive an item and a list and the item occur one or more times in the list false otherwise.\n",
    "\n",
    "The calculation of the resulting operation *and* is as follows: if the first expression is true, the result will be the second expression, otherwise it will be the first. \n",
    "\n",
    "As for the operator *or* if the first expression is false, the result will be the second expression, otherwise it will be the first. For other operators, the return will be of type bool (True or False)."
   ]
  },
  {
   "cell_type": "code",
   "execution_count": null,
   "metadata": {
    "collapsed": false,
    "deletable": true,
    "editable": true,
    "slideshow": {
     "slide_type": "slide"
    }
   },
   "outputs": [],
   "source": [
    "print(0 and 3)      # Shows 0\n",
    "print(2 and 3)      # Shows 3\n",
    "\n",
    "print(0 or 3)       # Shows 3\n",
    "print(2 or 3)       # Shows 2\n",
    "\n",
    "print(not 0)        # Shows True\n",
    "print(not 2)        # Shows False\n",
    "print(2 in (2, 3))  # Shows True\n",
    "print(2 is 3)       # Shows False"
   ]
  }
 ],
 "metadata": {
  "celltoolbar": "Slideshow",
  "kernelspec": {
   "display_name": "Python 3",
   "language": "python",
   "name": "python3"
  },
  "language_info": {
   "codemirror_mode": {
    "name": "ipython",
    "version": 3
   },
   "file_extension": ".py",
   "mimetype": "text/x-python",
   "name": "python",
   "nbconvert_exporter": "python",
   "pygments_lexer": "ipython3",
   "version": "3.4.4"
  },
  "livereveal": {
   "theme": "serif"
  }
 },
 "nbformat": 4,
 "nbformat_minor": 0
}
