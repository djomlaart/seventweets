{
 "cells": [
  {
   "cell_type": "markdown",
   "metadata": {
    "deletable": true,
    "editable": true,
    "slideshow": {
     "slide_type": "slide"
    }
   },
   "source": [
    "# Functions\n",
    "\n",
    "Functions are blocks of code identified by a name, which can receive predetermined parameters.\n",
    "\n",
    "In Python, functions:\n",
    "\n",
    "+ Can return objects or not.\n",
    "+ Accept *Doc Strings*.\n",
    "+ Accept optional parameters (with *defaults* ). If no parameter is passed, it will be equal to the *default* defined in the function.\n",
    "+ Accepts parameters to be passed by name. In this case, the order in which the parameters were passed does not matter.\n",
    "+ Have their own namespace (local scope), and therefore may obscure definitions of global scope.\n",
    "+ Can have their properties changed (usually by decorators)."
   ]
  },
  {
   "cell_type": "markdown",
   "metadata": {
    "deletable": true,
    "editable": true,
    "slideshow": {
     "slide_type": "slide"
    }
   },
   "source": [
    "Syntax:\n",
    "```python\n",
    "    def func(param1, param2=default_value):\n",
    "        \"\"\"\n",
    "        Documentation string\n",
    "        \n",
    "        :param type param1: Docs for param1\n",
    "        :type param2: Type of the param2\n",
    "        :param param2: Docs for param2\n",
    "        :rtype: Return value type\n",
    "        :return: Docs for the return vaue \n",
    "        \"\"\"\n",
    "        <code block>\n",
    "        \n",
    "        return value\n",
    "```\n",
    "The parameters with *default* value must be declared after the ones without *default* value."
   ]
  },
  {
   "cell_type": "code",
   "execution_count": null,
   "metadata": {
    "collapsed": false,
    "deletable": true,
    "editable": true,
    "slideshow": {
     "slide_type": "slide"
    }
   },
   "outputs": [],
   "source": [
    "# Fatorial implemented with recursion\n",
    "\n",
    "def factorial(num):\n",
    "    if num <= 1:\n",
    "        return 1\n",
    "    else:\n",
    "        return(num * factorial(num - 1))\n",
    "\n",
    "# Testing factorial()\n",
    "print(factorial(5))"
   ]
  },
  {
   "cell_type": "code",
   "execution_count": null,
   "metadata": {
    "collapsed": false,
    "deletable": true,
    "editable": true,
    "slideshow": {
     "slide_type": "slide"
    }
   },
   "outputs": [],
   "source": [
    "# Factorial implemented without recursion\n",
    "\n",
    "def fatorial(n):\n",
    "    # Factorial for all n < 1 == 1\n",
    "    n = n if n > 1 else 1\n",
    "    \n",
    "    j = 1\n",
    "    for i in range(1, n + 1):\n",
    "        j *= i\n",
    "    return j\n",
    "\n",
    "# Testing...\n",
    "for i in range(1, 6):\n",
    "    print(i, '->', fatorial(i))"
   ]
  },
  {
   "cell_type": "code",
   "execution_count": null,
   "metadata": {
    "collapsed": false,
    "deletable": true,
    "editable": true,
    "slideshow": {
     "slide_type": "slide"
    }
   },
   "outputs": [],
   "source": [
    "def fib(n):\n",
    "    \"\"\"Fibonacci:\n",
    "    fib(n) = fib(n - 1) + fib(n - 2) se n > 1\n",
    "    fib(n) = 1 se n <= 1\n",
    "    \"\"\"\n",
    "    if n > 1:\n",
    "        return fib(n - 1) + fib(n - 2)\n",
    "    else:\n",
    "        return 1\n",
    "\n",
    "# Show Fibonacci from 1 to 5\n",
    "for i in [1, 2, 3, 4, 5]:\n",
    "    print(i, '=>', fib(i))"
   ]
  },
  {
   "cell_type": "code",
   "execution_count": null,
   "metadata": {
    "collapsed": false,
    "deletable": true,
    "editable": true,
    "slideshow": {
     "slide_type": "slide"
    }
   },
   "outputs": [],
   "source": [
    "# RGB conversion\n",
    "\n",
    "def rgb_html(r=0, g=0, b=0):\n",
    "    \"\"\"Converts R, G, B to #RRGGBB\"\"\"\n",
    "    return '#{:2x}{:2x}{:2x}'.format(r, g, b)\n",
    "\n",
    "def html_rgb(color='#000000'):\n",
    "    \"\"\"Converts #RRGGBB em R, G, B\"\"\"\n",
    "    if color.startswith('#'):\n",
    "        color = color[1:]\n",
    "    return (\n",
    "        int(color[:2], 16),   # r\n",
    "        int(color[2:4], 16),  # g\n",
    "        int(color[4:], 16)    # b\n",
    "    )\n",
    "\n",
    "print(rgb_html(200, 200, 255))\n",
    "print(rgb_html(b=200, g=200, r=255)) # what's happened? \n",
    "print(html_rgb('#c8c8ff'))"
   ]
  },
  {
   "cell_type": "code",
   "execution_count": null,
   "metadata": {
    "collapsed": false,
    "deletable": true,
    "editable": true,
    "slideshow": {
     "slide_type": "slide"
    }
   },
   "outputs": [],
   "source": [
    "# *args - arguments without name (list)\n",
    "# **kargs - arguments with name (ditcionary)\n",
    "\n",
    "def func(*args, **kargs):\n",
    "    print(args)\n",
    "    print(kargs)\n",
    "\n",
    "func('weigh', 10, unit='kg', object='coal')"
   ]
  },
  {
   "cell_type": "markdown",
   "metadata": {
    "collapsed": true,
    "deletable": true,
    "editable": true,
    "slideshow": {
     "slide_type": "fragment"
    }
   },
   "source": [
    "In the example, `kwargs` will receive the named arguments and `args` will receive the others."
   ]
  },
  {
   "cell_type": "markdown",
   "metadata": {
    "deletable": true,
    "editable": true,
    "slideshow": {
     "slide_type": "slide"
    }
   },
   "source": [
    "Observations:\n",
    "\n",
    "+ The  arguments with default value must come last, after the non-default arguments.\n",
    "+ The default value for a parameter is calculated when the function is defined.\n",
    "+ The arguments passed without an identifier are received by the function in the form of a list.\n",
    "+ The arguments passed to the function with an identifier are received in the form of a dictionary.\n",
    "+ The parameters passed to the function with an identifier should come at the end of the parameter list."
   ]
  },
  {
   "cell_type": "markdown",
   "metadata": {
    "deletable": true,
    "editable": true,
    "slideshow": {
     "slide_type": "slide"
    }
   },
   "source": [
    "## Multiple return values"
   ]
  },
  {
   "cell_type": "code",
   "execution_count": null,
   "metadata": {
    "collapsed": false,
    "deletable": true,
    "editable": true,
    "slideshow": {
     "slide_type": "fragment"
    }
   },
   "outputs": [],
   "source": [
    "def multi_return(x, y):\n",
    "    sum = x + y\n",
    "    prod = x * y\n",
    "    return sum, prod\n",
    "\n",
    "print(multi_return(3, 4))\n",
    "\n",
    "a, b = multi_return(4, 6)\n",
    "print(a, b)"
   ]
  },
  {
   "cell_type": "markdown",
   "metadata": {
    "deletable": true,
    "editable": true,
    "slideshow": {
     "slide_type": "slide"
    }
   },
   "source": [
    "Multiuple return values are just a syntactic suggar for returning tuples, and all tuple unpacking rules apply for function return values."
   ]
  },
  {
   "cell_type": "code",
   "execution_count": null,
   "metadata": {
    "collapsed": false,
    "deletable": true,
    "editable": true,
    "slideshow": {
     "slide_type": "fragment"
    }
   },
   "outputs": [],
   "source": [
    "def func1():\n",
    "    return 3, 4, 5, 6\n",
    "\n",
    "\n",
    "def func2():\n",
    "    return 'foo', 3.14, (5, 6)\n",
    "\n",
    "res = func1()\n",
    "print(type(res))\n",
    "print(res)\n",
    "\n",
    "a, b, c = func2()\n",
    "print([type(x) for x in (a, b, c)])\n",
    "print(a, b, c)\n",
    "\n",
    "a, b, (c, d) = func2()\n",
    "print([type(x) for x in (a, b, c, d)])\n",
    "print(a, b, c, d)"
   ]
  },
  {
   "cell_type": "markdown",
   "metadata": {
    "deletable": true,
    "editable": true,
    "slideshow": {
     "slide_type": "slide"
    }
   },
   "source": [
    "## Type annotations\n",
    "\n",
    "Python supports type annotations on functions:"
   ]
  },
  {
   "cell_type": "code",
   "execution_count": null,
   "metadata": {
    "collapsed": true,
    "deletable": true,
    "editable": true,
    "slideshow": {
     "slide_type": "fragment"
    }
   },
   "outputs": [],
   "source": [
    "def my_function(x: int, y: float=0) -> float:\n",
    "    return x * y"
   ]
  },
  {
   "cell_type": "markdown",
   "metadata": {
    "deletable": true,
    "editable": true,
    "slideshow": {
     "slide_type": "slide"
    }
   },
   "source": [
    "## Exercise 1:"
   ]
  },
  {
   "cell_type": "markdown",
   "metadata": {
    "deletable": true,
    "editable": true,
    "slideshow": {
     "slide_type": "fragment"
    }
   },
   "source": [
    "Make a function which takes any number of string parameters and returns them joined by space\n",
    "\n",
    "```python\n",
    "func('a', 'b', 'c')\n",
    "=> 'a b c'\n",
    "```"
   ]
  },
  {
   "cell_type": "markdown",
   "metadata": {
    "collapsed": true,
    "deletable": true,
    "editable": true,
    "slideshow": {
     "slide_type": "slide"
    }
   },
   "source": [
    "## Exercise 2:"
   ]
  },
  {
   "cell_type": "markdown",
   "metadata": {
    "deletable": true,
    "editable": true,
    "slideshow": {
     "slide_type": "fragment"
    }
   },
   "source": [
    "Make a function which takes a dictionary {<string>: <any type>} and any number of named paramters (with no names predefined) and adds those name-value pairs to the dict if name is not already in the dict.\n",
    "\n",
    "```python\n",
    "d = {'one': 1, 'two': 2, 'three': 3}\n",
    "func(d, two=4, four=4)\n",
    "=> {'one': 1, 'two': 2, 'three': 3, 'four':4}\n",
    "```"
   ]
  },
  {
   "cell_type": "markdown",
   "metadata": {
    "deletable": true,
    "editable": true,
    "slideshow": {
     "slide_type": "slide"
    }
   },
   "source": [
    "## Exercise 3:"
   ]
  },
  {
   "cell_type": "markdown",
   "metadata": {
    "deletable": true,
    "editable": true,
    "slideshow": {
     "slide_type": "fragment"
    }
   },
   "source": [
    "Write a function `create_addmul` which receives two numbers - number to add and a number to multiply the result of addition. Function should return another function that will receive another number and perform the operation on it.\n",
    "\n",
    "```python\n",
    "\n",
    "def create_addmul(add, mul):\n",
    "    ...\n",
    "```\n",
    "\n",
    "Parameter `mul` should have a default value `1`:\n",
    "\n",
    "```python\n",
    "\n",
    "add5 = create_addmul(5)\n",
    "add10mul3 = create_addmul(10, 3)\n",
    "\n",
    "add5(4) => 9\n",
    "add10mul3(5) => 45\n",
    "```"
   ]
  }
 ],
 "metadata": {
  "celltoolbar": "Slideshow",
  "kernelspec": {
   "display_name": "Python 3",
   "language": "python",
   "name": "python3"
  },
  "language_info": {
   "codemirror_mode": {
    "name": "ipython",
    "version": 3
   },
   "file_extension": ".py",
   "mimetype": "text/x-python",
   "name": "python",
   "nbconvert_exporter": "python",
   "pygments_lexer": "ipython3",
   "version": "3.4.4"
  },
  "livereveal": {
   "theme": "serif"
  }
 },
 "nbformat": 4,
 "nbformat_minor": 0
}
