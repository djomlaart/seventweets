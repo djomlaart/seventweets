{
 "cells": [
  {
   "cell_type": "markdown",
   "metadata": {
    "deletable": true,
    "editable": true,
    "slideshow": {
     "slide_type": "slide"
    }
   },
   "source": [
    "Object are collections of data and functionality.\n",
    "\n",
    "Classes are definitions (blueprints) of objects.\n",
    "\n",
    "Classes are defined with the keyword `class`\n",
    "\n",
    "```python\n",
    "class User:\n",
    "    [code block]\n",
    "```"
   ]
  },
  {
   "cell_type": "code",
   "execution_count": null,
   "metadata": {
    "collapsed": false,
    "deletable": true,
    "editable": true,
    "slideshow": {
     "slide_type": "slide"
    }
   },
   "outputs": [],
   "source": [
    "# Empty class\n",
    "class User:\n",
    "    pass\n",
    "\n",
    "# Classes are instantiated by calling their name\n",
    "ivan = User()\n",
    "\n",
    "ivan.__class__"
   ]
  },
  {
   "cell_type": "markdown",
   "metadata": {
    "deletable": true,
    "editable": true,
    "slideshow": {
     "slide_type": "slide"
    }
   },
   "source": [
    "## Initializer\n",
    "\n",
    "Object initializer (method called autmatically after the cration of an object) in python is allways called\n",
    "\n",
    "```python\n",
    "def __init__(self, args):\n",
    "    [code block]\n",
    "```\n",
    "    \n",
    "And, **as with all object methods**, it's first argument is a reference to the created object instance: `self` (or `this`). Initializer can take any other arguments after `self`, and is responsible for the initialization of object variables. Initializer automatically returns `self`."
   ]
  },
  {
   "cell_type": "code",
   "execution_count": null,
   "metadata": {
    "collapsed": false,
    "deletable": true,
    "editable": true,
    "slideshow": {
     "slide_type": "fragment"
    }
   },
   "outputs": [],
   "source": [
    "class User:  \n",
    "    def __init__(self, name, job):\n",
    "        self.name = name  # Creation of instance attribute name\n",
    "        self.job  = job   # Creation of instance attribute job\n",
    "        \n",
    "ivan = User(\"Ivan\", \"programmer\")\n",
    "print(ivan.name)\n",
    "print(ivan.job)"
   ]
  },
  {
   "cell_type": "markdown",
   "metadata": {
    "deletable": true,
    "editable": true,
    "slideshow": {
     "slide_type": "slide"
    }
   },
   "source": [
    "## Class attributes\n",
    "\n",
    "Class attributes are defined outside the `__init__` function"
   ]
  },
  {
   "cell_type": "code",
   "execution_count": null,
   "metadata": {
    "collapsed": true,
    "deletable": true,
    "editable": true,
    "slideshow": {
     "slide_type": "fragment"
    }
   },
   "outputs": [],
   "source": [
    "class User:\n",
    "    \"\"\" User class documentation \"\"\"\n",
    "    \n",
    "    user_count = 0\n",
    "    \n",
    "    def __init__(self, name, job):\n",
    "        self.name = name\n",
    "        self.job  = job\n",
    "        # We can access class attributes eather through self\n",
    "        # When changing a class attribute it must be accessed\n",
    "        # using the class name\n",
    "        User.user_count += 1\n",
    "        # If we do\n",
    "        # self.user_count += 1\n",
    "        # This code will search for an instance level attribute\n",
    "        # user_count. Or if we do an assignent create an instance\n",
    "        # level attribute"
   ]
  },
  {
   "cell_type": "code",
   "execution_count": null,
   "metadata": {
    "collapsed": false,
    "deletable": true,
    "editable": true,
    "slideshow": {
     "slide_type": "slide"
    }
   },
   "outputs": [],
   "source": [
    "ivan = User('ivan', 'user')\n",
    "print(User.user_count)\n",
    "\n",
    "bojan = User('bojan', 'admin')\n",
    "print(User.user_count)\n",
    "\n",
    "# they can be accessed (for reading) via instances\n",
    "print(ivan.user_count)\n",
    "\n",
    "# however that can be confusing as they can not be assigned to via instances\n",
    "ivan.user_count = 8\n",
    "# creates an instance attribute user_count on the ivan object\n",
    "print(User.user_count)\n",
    "print(ivan.user_count)"
   ]
  },
  {
   "cell_type": "markdown",
   "metadata": {
    "deletable": true,
    "editable": true,
    "slideshow": {
     "slide_type": "slide"
    }
   },
   "source": [
    "This is a good opportunity to show the same point while also explaining that classes and objects are essentially not much more that dictionaries."
   ]
  },
  {
   "cell_type": "code",
   "execution_count": null,
   "metadata": {
    "collapsed": false,
    "deletable": true,
    "editable": true,
    "slideshow": {
     "slide_type": "fragment"
    }
   },
   "outputs": [],
   "source": [
    "# class __dict__\n",
    "print(User.__dict__)\n",
    "print()\n",
    "\n",
    "# object dict\n",
    "print(ivan.__dict__)\n",
    "print()\n",
    "\n",
    "# another convenience\n",
    "print(ivan.__class__.__dict__)"
   ]
  },
  {
   "cell_type": "markdown",
   "metadata": {
    "deletable": true,
    "editable": true,
    "slideshow": {
     "slide_type": "slide"
    }
   },
   "source": [
    "Other methods are defined inside the class block, with any name, and `self` parameter"
   ]
  },
  {
   "cell_type": "code",
   "execution_count": null,
   "metadata": {
    "collapsed": false,
    "deletable": true,
    "editable": true,
    "slideshow": {
     "slide_type": "fragment"
    }
   },
   "outputs": [],
   "source": [
    "class User:\n",
    "    \"\"\" User class documentation \"\"\"\n",
    "    \n",
    "    user_count = 0\n",
    "    \n",
    "    def __init__(self, first_name, last_name, job):\n",
    "        self.first_name = first_name.capitalize()\n",
    "        self.last_name  = last_name.capitalize()\n",
    "        self.job        = job\n",
    "        User.user_count += 1\n",
    "    \n",
    "    def full_name(self):\n",
    "        return '{0.first_name} {0.last_name}'.format(self)\n",
    "\n",
    "    \n",
    "ivan = User('ivan', 'selimbegovic', 'programmer')\n",
    "\n",
    "ivan.full_name()"
   ]
  },
  {
   "cell_type": "markdown",
   "metadata": {
    "deletable": true,
    "editable": true,
    "slideshow": {
     "slide_type": "slide"
    }
   },
   "source": [
    "## private, protected, public\n",
    "\n",
    "Normally python does not make difference between private, protected and public class attributes.\n",
    "\n",
    "To define private attributes we conventionally prefix it's name with and underscore.\n",
    "\n",
    "To enforce privacy, we can prefix the name with two underscores. What really happens is not the creation of private attribute, but some name-mangling"
   ]
  },
  {
   "cell_type": "code",
   "execution_count": null,
   "metadata": {
    "collapsed": false,
    "deletable": true,
    "editable": true,
    "slideshow": {
     "slide_type": "fragment"
    }
   },
   "outputs": [],
   "source": [
    "class Pdemo:\n",
    "    \"\"\" User class documentation \"\"\"\n",
    "    \n",
    "    def __init__(self, kinda_private, almost_really_private):\n",
    "        self._kinda_private = kinda_private\n",
    "        self.__almost_really_private = almost_really_private\n",
    "        \n",
    "c = Pdemo('underscore', 'double_underscore')\n",
    "print(c.__dict__)\n",
    "print(c._kinda_private)"
   ]
  },
  {
   "cell_type": "code",
   "execution_count": null,
   "metadata": {
    "collapsed": false,
    "deletable": true,
    "editable": true,
    "slideshow": {
     "slide_type": "slide"
    }
   },
   "outputs": [],
   "source": [
    "print(c.__almost_really_private)"
   ]
  },
  {
   "cell_type": "code",
   "execution_count": null,
   "metadata": {
    "collapsed": false,
    "deletable": true,
    "editable": true,
    "slideshow": {
     "slide_type": "fragment"
    }
   },
   "outputs": [],
   "source": [
    "print(c._Pdemo__almost_really_private)"
   ]
  },
  {
   "cell_type": "markdown",
   "metadata": {
    "deletable": true,
    "editable": true,
    "slideshow": {
     "slide_type": "slide"
    }
   },
   "source": [
    "## Magic methods"
   ]
  },
  {
   "cell_type": "markdown",
   "metadata": {
    "deletable": true,
    "editable": true,
    "slideshow": {
     "slide_type": "fragment"
    }
   },
   "source": [
    "'Magic methods' are methods we can define on objects which get automatically (implicitly, magically) called in certain situations.\n",
    "\n",
    "`__init__` is one such magic method. It is called after object instantiation."
   ]
  },
  {
   "cell_type": "markdown",
   "metadata": {
    "deletable": true,
    "editable": true,
    "slideshow": {
     "slide_type": "fragment"
    }
   },
   "source": [
    "The most usefull magic method is `__str__` it is called when object is treated as a string."
   ]
  },
  {
   "cell_type": "code",
   "execution_count": null,
   "metadata": {
    "collapsed": false,
    "deletable": true,
    "editable": true,
    "slideshow": {
     "slide_type": "fragment"
    }
   },
   "outputs": [],
   "source": [
    "class User:\n",
    "    \"\"\" User class documentation \"\"\"\n",
    "    def __init__(self, name, job):\n",
    "        self.name = name\n",
    "        self.job  = job\n",
    "\n",
    "    def __str__(self):\n",
    "        return ' '.join( (self.name, 'is a', self.job) )\n",
    "    \n",
    "ivan = User('Ivan', 'programmer')\n",
    "print(ivan)"
   ]
  },
  {
   "cell_type": "markdown",
   "metadata": {
    "collapsed": false,
    "deletable": true,
    "editable": true,
    "slideshow": {
     "slide_type": "slide"
    }
   },
   "source": [
    "## Magic methods - operator overloading"
   ]
  },
  {
   "cell_type": "code",
   "execution_count": null,
   "metadata": {
    "collapsed": false,
    "deletable": true,
    "editable": true,
    "slideshow": {
     "slide_type": "fragment"
    }
   },
   "outputs": [],
   "source": [
    "class User:\n",
    "    def __init__(self, name, height):\n",
    "        self.name = name\n",
    "        self.height = height\n",
    "    \n",
    "    def __str__(self):\n",
    "        return '{0.name} is {0.height}cm high'.format(self)\n",
    "    \n",
    "    def __add__(self, other):\n",
    "        return User(\n",
    "            name='{} {}'.format(self.name, other.name),\n",
    "            height=self.height + other.height\n",
    "        )\n",
    "    \n",
    "    def __eq__(self, other):\n",
    "        return self.height == other.height\n",
    "    \n",
    "    def __gt__(self, other):\n",
    "        return self.height > other.height\n",
    "\n",
    "ivan = User('Ivan', 192)\n",
    "pera = User('Pera', 190)\n",
    "\n",
    "print(ivan == pera)\n",
    "print(ivan > pera)\n",
    "print(ivan + pera)"
   ]
  },
  {
   "cell_type": "markdown",
   "metadata": {
    "deletable": true,
    "editable": true,
    "slideshow": {
     "slide_type": "slide"
    }
   },
   "source": [
    "## Inheritance\n",
    "\n",
    "Classes can inherti attributes from other classes.\n",
    "\n",
    "Parent classes are listed on class definition in parentheses after the class name."
   ]
  },
  {
   "cell_type": "code",
   "execution_count": null,
   "metadata": {
    "collapsed": false,
    "deletable": true,
    "editable": true,
    "slideshow": {
     "slide_type": "fragment"
    }
   },
   "outputs": [],
   "source": [
    "class Person:\n",
    "    def __init__(self, name):\n",
    "        self.name = name\n",
    "        \n",
    "class Programmer(Person):\n",
    "    def __init__(self, name, stack):\n",
    "        super().__init__(name)\n",
    "        self.stack = stack\n",
    "        \n",
    "    def __str__(self):\n",
    "        return self.name + ' writes ' + ','.join(self.stack)\n",
    "\n",
    "ivan = Programmer('Ivan', ['Python'])\n",
    "print(ivan.name)\n",
    "print(ivan)"
   ]
  },
  {
   "cell_type": "markdown",
   "metadata": {
    "deletable": true,
    "editable": true,
    "slideshow": {
     "slide_type": "slide"
    }
   },
   "source": [
    "## Method overloading"
   ]
  },
  {
   "cell_type": "code",
   "execution_count": null,
   "metadata": {
    "collapsed": false,
    "deletable": true,
    "editable": true,
    "slideshow": {
     "slide_type": "fragment"
    }
   },
   "outputs": [],
   "source": [
    "class Person:\n",
    "    def __init__(self, name):\n",
    "        self.name = name\n",
    "        \n",
    "    def __str__(self):\n",
    "        return \"My name is: \" + self.name \n",
    "    \n",
    "class Programmer(Person):\n",
    "    def __init__(self, name, stack):\n",
    "        super().__init__(name)\n",
    "        self.stack = stack\n",
    "        \n",
    "#     def __str__(self):\n",
    "#         return self.name + ' writes ' + ','.join(self.stack)\n",
    "\n",
    "ivan = Programmer('ivan', ['Python'])\n",
    "print(ivan)"
   ]
  },
  {
   "cell_type": "markdown",
   "metadata": {
    "deletable": true,
    "editable": true,
    "slideshow": {
     "slide_type": "slide"
    }
   },
   "source": [
    "## Multiple inheritance\n",
    "\n",
    "Classes in python can inherit attributes of more than a single class. But..."
   ]
  },
  {
   "cell_type": "markdown",
   "metadata": {
    "deletable": true,
    "editable": true,
    "slideshow": {
     "slide_type": "slide"
    }
   },
   "source": [
    "## Method resolution order\n",
    "\n",
    "If a child class ahs two parents, both having an attribute of same name - which will be inherited?"
   ]
  },
  {
   "cell_type": "code",
   "execution_count": null,
   "metadata": {
    "collapsed": false,
    "deletable": true,
    "editable": true,
    "slideshow": {
     "slide_type": "fragment"
    }
   },
   "outputs": [],
   "source": [
    "class Person:\n",
    "    def class_name():\n",
    "        print(\"Person\")\n",
    "        \n",
    "class Animal:\n",
    "    def class_name():\n",
    "        print(\"Animal\")\n",
    "        \n",
    "class Programmer(Person, Animal):\n",
    "    def __init__(self):\n",
    "        pass\n",
    "    \n",
    "p = Programmer\n",
    "p.class_name()"
   ]
  },
  {
   "cell_type": "markdown",
   "metadata": {
    "deletable": true,
    "editable": true,
    "slideshow": {
     "slide_type": "slide"
    }
   },
   "source": [
    "Python will first search for the attribute in the `__dict__` of the object on which the attribute was accessed, and only if it doesn't find it it will search in parent classes.\n",
    "\n",
    "The order in which parent classes are searched is determined by the Method resolution order: parent classes are searched form left to right, as soon as the desired attribute is found, the search stops."
   ]
  },
  {
   "cell_type": "code",
   "execution_count": null,
   "metadata": {
    "collapsed": false,
    "deletable": true,
    "editable": true,
    "slideshow": {
     "slide_type": "fragment"
    }
   },
   "outputs": [],
   "source": [
    "# class Programmer(Person, Animal):\n",
    "\n",
    "Programmer.mro()"
   ]
  },
  {
   "cell_type": "markdown",
   "metadata": {
    "deletable": true,
    "editable": true,
    "slideshow": {
     "slide_type": "slide"
    }
   },
   "source": [
    "## Back to super()\n",
    "\n",
    "`super()`, in fact, does not call the parent class - it calls the **next** in the method resolution order"
   ]
  },
  {
   "cell_type": "code",
   "execution_count": null,
   "metadata": {
    "collapsed": false,
    "deletable": true,
    "editable": true,
    "slideshow": {
     "slide_type": "fragment"
    }
   },
   "outputs": [],
   "source": [
    "class A(object):\n",
    "    def __init__(self):\n",
    "        print('A')\n",
    "\n",
    "class B(object):\n",
    "    def __init__(self):\n",
    "        print('B')\n",
    "\n",
    "class C(A, B):\n",
    "    def __init__(self):\n",
    "        super().__init__()\n",
    "        print('C')\n",
    "\n",
    "c = C()"
   ]
  },
  {
   "cell_type": "markdown",
   "metadata": {
    "slideshow": {
     "slide_type": "slide"
    }
   },
   "source": [
    "To fix this we have to explicitly call the initiliazer function of our superclasses."
   ]
  },
  {
   "cell_type": "code",
   "execution_count": null,
   "metadata": {
    "collapsed": false,
    "slideshow": {
     "slide_type": "fragment"
    }
   },
   "outputs": [],
   "source": [
    "class A(object):\n",
    "    def __init__(self):\n",
    "        print('A')\n",
    "\n",
    "class B(object):\n",
    "    def __init__(self):\n",
    "        print('B')\n",
    "        \n",
    "class C(A, B):\n",
    "    def __init__(self):\n",
    "        A.__init__(self)\n",
    "        B.__init__(self)\n",
    "        print('C')\n",
    "\n",
    "c = C()\n",
    "print(C.mro())"
   ]
  },
  {
   "cell_type": "markdown",
   "metadata": {
    "slideshow": {
     "slide_type": "slide"
    }
   },
   "source": [
    "This is also helpful if the parent classes doesn't have same signatures"
   ]
  },
  {
   "cell_type": "code",
   "execution_count": null,
   "metadata": {
    "collapsed": false,
    "slideshow": {
     "slide_type": "fragment"
    }
   },
   "outputs": [],
   "source": [
    "class A(object):\n",
    "    def __init__(self, name):\n",
    "        self.name = name\n",
    "\n",
    "class B(object):\n",
    "    def __init__(self, age):\n",
    "        self.age = age\n",
    "\n",
    "class C(A, B):\n",
    "    def __init__(self, name, age):\n",
    "        A.__init__(self, name)\n",
    "        B.__init__(self, age)\n",
    "\n",
    "c = C('ivan', 30)\n",
    "print(c.name)\n",
    "print(c.age)"
   ]
  },
  {
   "cell_type": "markdown",
   "metadata": {
    "slideshow": {
     "slide_type": "slide"
    }
   },
   "source": [
    "`super()` can be used for all overriden functions too."
   ]
  },
  {
   "cell_type": "code",
   "execution_count": null,
   "metadata": {
    "collapsed": false,
    "slideshow": {
     "slide_type": "fragment"
    }
   },
   "outputs": [],
   "source": [
    "class A(object):\n",
    "    def foo(self):\n",
    "        print('A foo')\n",
    "\n",
    "class B(A):\n",
    "    def foo(self):\n",
    "        super().foo()\n",
    "        print('B foo')\n",
    "\n",
    "b = B()\n",
    "b.foo()"
   ]
  },
  {
   "cell_type": "markdown",
   "metadata": {
    "slideshow": {
     "slide_type": "slide"
    }
   },
   "source": [
    "## Properties\n",
    "\n",
    "Properties are instance methods that can be called as attributes. They are mostly used as `getter` and `setter` in other languages or as calculated attributes.\n",
    "\n",
    "Rule of thumb is: Always create an attribute and then if you need to perform a certain login on that attribute convert it to property."
   ]
  },
  {
   "cell_type": "code",
   "execution_count": 3,
   "metadata": {
    "collapsed": false,
    "slideshow": {
     "slide_type": "fragment"
    }
   },
   "outputs": [
    {
     "name": "stdout",
     "output_type": "stream",
     "text": [
      "180\n",
      "3.141592653589793\n"
     ]
    }
   ],
   "source": [
    "import math\n",
    "\n",
    "class Angle(object):\n",
    "    def __init__(self, degrees):\n",
    "        self.degrees = degrees\n",
    "    \n",
    "    @property\n",
    "    def radians(self):\n",
    "        return self.degrees * math.pi / 180\n",
    "\n",
    "a = Angle(180)\n",
    "print(a.degrees)\n",
    "print(a.radians)"
   ]
  },
  {
   "cell_type": "code",
   "execution_count": 4,
   "metadata": {
    "collapsed": false,
    "slideshow": {
     "slide_type": "slide"
    }
   },
   "outputs": [
    {
     "name": "stdout",
     "output_type": "stream",
     "text": [
      "Mr. Ivan\n",
      "Mr. Bojan\n"
     ]
    }
   ],
   "source": [
    "class Mr(object):\n",
    "    def __init__(self, name):\n",
    "        self._name = name\n",
    "    \n",
    "    @property\n",
    "    def name(self):\n",
    "        return 'Mr. {}'.format(self._name)\n",
    "    \n",
    "    @name.setter\n",
    "    def name(self, value):\n",
    "        self._name = value\n",
    "\n",
    "mr = Mr('Ivan')\n",
    "print(mr.name)\n",
    "mr.name = 'Bojan'\n",
    "print(mr.name)"
   ]
  },
  {
   "cell_type": "markdown",
   "metadata": {
    "slideshow": {
     "slide_type": "slide"
    }
   },
   "source": [
    "## Exercise\n",
    "\n",
    "Define a class named `Shape` and its subclass `Rectangle` and `Circle` and a class `Square` which is a sublass of the `Rectangle`. All child classes should have an `__init__` function whit appropriate arguments and an `area` function which can print the area of the shape where Shape's area is 0 by default. Other appropriate methods or properties like `radius` or `width` and `height` should be added to child classes."
   ]
  }
 ],
 "metadata": {
  "celltoolbar": "Slideshow",
  "kernelspec": {
   "display_name": "Python 3",
   "language": "python",
   "name": "python3"
  },
  "language_info": {
   "codemirror_mode": {
    "name": "ipython",
    "version": 3
   },
   "file_extension": ".py",
   "mimetype": "text/x-python",
   "name": "python",
   "nbconvert_exporter": "python",
   "pygments_lexer": "ipython3",
   "version": "3.6.0"
  }
 },
 "nbformat": 4,
 "nbformat_minor": 2
}
